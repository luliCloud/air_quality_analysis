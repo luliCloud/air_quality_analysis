{
  "cells": [
    {
      "cell_type": "code",
      "source": [
        "from google.colab import drive\n",
        "drive.mount('/content/drive')"
      ],
      "metadata": {
        "colab": {
          "base_uri": "https://localhost:8080/"
        },
        "id": "f4wpt_WrKDbF",
        "outputId": "7b07f714-42cb-4f31-f28a-6705b98a2f55"
      },
      "execution_count": null,
      "outputs": [
        {
          "output_type": "stream",
          "name": "stdout",
          "text": [
            "Mounted at /content/drive\n"
          ]
        }
      ]
    },
    {
      "cell_type": "code",
      "execution_count": null,
      "metadata": {
        "id": "y_Dn9rzyiqxi"
      },
      "outputs": [],
      "source": [
        "import pandas as pd\n",
        "import numpy as np\n",
        "import torch\n",
        "import torch.nn as nn\n",
        "import sklearn\n",
        "import matplotlib.pyplot as plt\n",
        "import seaborn as sns"
      ]
    },
    {
      "cell_type": "markdown",
      "metadata": {
        "id": "GGLKx-6qiz-_"
      },
      "source": [
        "Upload the labels.csv and processed_counts.csv files to colab or your local workspace.\n",
        "\n",
        "**Copied from Part 1:**\n",
        "This data associates a cell barcode, such as \"AAAGCCTGGCTAAC-1\", to a certain cell type label, such as \"CD14+ Monocyte\". For each cell barcode, there are also log RNA seq counts of 765 different genes, such as HES4.\n",
        "\n",
        "label.csv stores the association between a cell barcode and a cell type label.\n",
        "\n",
        "processed_counts.csv stores the normalized log read counts for each cell, where each row represents a single cell, and each column represents a gene."
      ]
    },
    {
      "cell_type": "code",
      "execution_count": null,
      "metadata": {
        "id": "WelsjSzviy4m"
      },
      "outputs": [],
      "source": [
        "labels_pd = pd.read_csv(\"/content/drive/My Drive/245/final project/labels.csv\")\n",
        "counts_pd = pd.read_csv(\"/content/drive/My Drive/245/final project/processed_counts.csv\")"
      ]
    },
    {
      "cell_type": "code",
      "execution_count": null,
      "metadata": {
        "colab": {
          "base_uri": "https://localhost:8080/",
          "height": 644
        },
        "id": "aIX8kcTXi7EV",
        "outputId": "9ed14ee8-ab24-4619-93f0-a8f7948b16b5"
      },
      "outputs": [
        {
          "output_type": "execute_result",
          "data": {
            "text/plain": [
              "                   HES4  TNFRSF4  SSU72  PARK7   RBP7    SRM  MAD2L2  AGTRAP  \\\n",
              "AAAGCCTGGCTAAC-1 -0.326   -0.191 -0.728 -0.301  3.386 -0.531   2.016   3.377   \n",
              "AAATTCGATGCACA-1  1.171   -0.191  0.795 -1.200 -0.174 -0.531   1.889  -0.486   \n",
              "AACACGTGGTCTTT-1 -0.326   -0.191  0.483 -1.200 -0.174 -0.531  -0.451   0.971   \n",
              "AAGTGCACGTGCTA-1 -0.326   -0.191  1.134 -0.157 -0.174 -0.531  -0.451  -0.486   \n",
              "ACACGAACGGAGTG-1 -0.326   -0.191 -0.728 -0.607 -0.174 -0.531  -0.451   0.787   \n",
              "...                 ...      ...    ...    ...    ...    ...     ...     ...   \n",
              "TGGCACCTCCAACA-8 -0.326   -0.191  0.372 -0.584 -0.174  0.509  -0.451   2.160   \n",
              "TGTGAGTGCTTTAC-8  3.166   -0.191 -0.728 -1.200 -0.174 -0.531  -0.451  -0.486   \n",
              "TGTTACTGGCGATT-8 -0.326   -0.191 -0.728 -1.200 -0.174  1.784  -0.451  -0.486   \n",
              "TTCAGTACCGGGAA-8 -0.326   -0.191 -0.728 -0.386 -0.174 -0.531  -0.451  -0.486   \n",
              "TTGAGGTGGAGAGC-8 -0.326   -0.191  0.148  0.762 -0.174  0.298  -0.451  -0.486   \n",
              "\n",
              "                  TNFRSF1B  EFHD2  ...  MRPS6   TTC3  U2AF1   CSTB  SUMO3  \\\n",
              "AAAGCCTGGCTAAC-1     4.841 -0.525  ... -0.532 -0.341  0.303  1.404  4.294   \n",
              "AAATTCGATGCACA-1    -0.459 -0.525  ... -0.532 -0.341 -0.905  2.849 -0.585   \n",
              "AACACGTGGTCTTT-1    -0.459  2.286  ...  2.606 -0.341 -0.905 -0.455 -0.585   \n",
              "AAGTGCACGTGCTA-1    -0.459 -0.525  ... -0.532 -0.341 -0.905 -0.119 -0.585   \n",
              "ACACGAACGGAGTG-1    -0.459  1.932  ...  0.839  1.679 -0.108 -0.534 -0.585   \n",
              "...                    ...    ...  ...    ...    ...    ...    ...    ...   \n",
              "TGGCACCTCCAACA-8    -0.459  0.751  ... -0.532  1.758  1.578  0.055 -0.585   \n",
              "TGTGAGTGCTTTAC-8    -0.459  1.536  ... -0.532 -0.341  0.432  0.753 -0.585   \n",
              "TGTTACTGGCGATT-8    -0.459 -0.525  ... -0.532 -0.341  1.858  0.814 -0.585   \n",
              "TTCAGTACCGGGAA-8    -0.459 -0.525  ... -0.532 -0.341  2.378  0.420  0.888   \n",
              "TTGAGGTGGAGAGC-8     0.505 -0.525  ... -0.532 -0.341  1.073 -0.628 -0.585   \n",
              "\n",
              "                  ITGB2  S100B  PRMT2  MT-ND3      bulk_labels  \n",
              "AAAGCCTGGCTAAC-1  0.519  -0.21 -0.636   4.011   CD14+ Monocyte  \n",
              "AAATTCGATGCACA-1  1.172  -0.21  2.630  -0.490        Dendritic  \n",
              "AACACGTGGTCTTT-1  0.722  -0.21  0.663  -0.490         CD56+ NK  \n",
              "AAGTGCACGTGCTA-1  0.766  -0.21 -0.636  -0.490  CD4+/CD25 T Reg  \n",
              "ACACGAACGGAGTG-1 -0.007  -0.21 -0.636  -0.490        Dendritic  \n",
              "...                 ...    ...    ...     ...              ...  \n",
              "TGGCACCTCCAACA-8  0.561  -0.21  0.543   2.593        Dendritic  \n",
              "TGTGAGTGCTTTAC-8 -0.171  -0.21  1.268  -0.490        Dendritic  \n",
              "TGTTACTGGCGATT-8  0.152  -0.21 -0.636   1.226  CD4+/CD25 T Reg  \n",
              "TTCAGTACCGGGAA-8 -0.326  -0.21 -0.636  -0.490          CD19+ B  \n",
              "TTGAGGTGGAGAGC-8  0.239  -0.21 -0.636  -0.490        Dendritic  \n",
              "\n",
              "[700 rows x 766 columns]"
            ],
            "text/html": [
              "\n",
              "  <div id=\"df-f16a7c6c-ceac-4123-89d5-75b48794c79b\">\n",
              "    <div class=\"colab-df-container\">\n",
              "      <div>\n",
              "<style scoped>\n",
              "    .dataframe tbody tr th:only-of-type {\n",
              "        vertical-align: middle;\n",
              "    }\n",
              "\n",
              "    .dataframe tbody tr th {\n",
              "        vertical-align: top;\n",
              "    }\n",
              "\n",
              "    .dataframe thead th {\n",
              "        text-align: right;\n",
              "    }\n",
              "</style>\n",
              "<table border=\"1\" class=\"dataframe\">\n",
              "  <thead>\n",
              "    <tr style=\"text-align: right;\">\n",
              "      <th></th>\n",
              "      <th>HES4</th>\n",
              "      <th>TNFRSF4</th>\n",
              "      <th>SSU72</th>\n",
              "      <th>PARK7</th>\n",
              "      <th>RBP7</th>\n",
              "      <th>SRM</th>\n",
              "      <th>MAD2L2</th>\n",
              "      <th>AGTRAP</th>\n",
              "      <th>TNFRSF1B</th>\n",
              "      <th>EFHD2</th>\n",
              "      <th>...</th>\n",
              "      <th>MRPS6</th>\n",
              "      <th>TTC3</th>\n",
              "      <th>U2AF1</th>\n",
              "      <th>CSTB</th>\n",
              "      <th>SUMO3</th>\n",
              "      <th>ITGB2</th>\n",
              "      <th>S100B</th>\n",
              "      <th>PRMT2</th>\n",
              "      <th>MT-ND3</th>\n",
              "      <th>bulk_labels</th>\n",
              "    </tr>\n",
              "  </thead>\n",
              "  <tbody>\n",
              "    <tr>\n",
              "      <th>AAAGCCTGGCTAAC-1</th>\n",
              "      <td>-0.326</td>\n",
              "      <td>-0.191</td>\n",
              "      <td>-0.728</td>\n",
              "      <td>-0.301</td>\n",
              "      <td>3.386</td>\n",
              "      <td>-0.531</td>\n",
              "      <td>2.016</td>\n",
              "      <td>3.377</td>\n",
              "      <td>4.841</td>\n",
              "      <td>-0.525</td>\n",
              "      <td>...</td>\n",
              "      <td>-0.532</td>\n",
              "      <td>-0.341</td>\n",
              "      <td>0.303</td>\n",
              "      <td>1.404</td>\n",
              "      <td>4.294</td>\n",
              "      <td>0.519</td>\n",
              "      <td>-0.21</td>\n",
              "      <td>-0.636</td>\n",
              "      <td>4.011</td>\n",
              "      <td>CD14+ Monocyte</td>\n",
              "    </tr>\n",
              "    <tr>\n",
              "      <th>AAATTCGATGCACA-1</th>\n",
              "      <td>1.171</td>\n",
              "      <td>-0.191</td>\n",
              "      <td>0.795</td>\n",
              "      <td>-1.200</td>\n",
              "      <td>-0.174</td>\n",
              "      <td>-0.531</td>\n",
              "      <td>1.889</td>\n",
              "      <td>-0.486</td>\n",
              "      <td>-0.459</td>\n",
              "      <td>-0.525</td>\n",
              "      <td>...</td>\n",
              "      <td>-0.532</td>\n",
              "      <td>-0.341</td>\n",
              "      <td>-0.905</td>\n",
              "      <td>2.849</td>\n",
              "      <td>-0.585</td>\n",
              "      <td>1.172</td>\n",
              "      <td>-0.21</td>\n",
              "      <td>2.630</td>\n",
              "      <td>-0.490</td>\n",
              "      <td>Dendritic</td>\n",
              "    </tr>\n",
              "    <tr>\n",
              "      <th>AACACGTGGTCTTT-1</th>\n",
              "      <td>-0.326</td>\n",
              "      <td>-0.191</td>\n",
              "      <td>0.483</td>\n",
              "      <td>-1.200</td>\n",
              "      <td>-0.174</td>\n",
              "      <td>-0.531</td>\n",
              "      <td>-0.451</td>\n",
              "      <td>0.971</td>\n",
              "      <td>-0.459</td>\n",
              "      <td>2.286</td>\n",
              "      <td>...</td>\n",
              "      <td>2.606</td>\n",
              "      <td>-0.341</td>\n",
              "      <td>-0.905</td>\n",
              "      <td>-0.455</td>\n",
              "      <td>-0.585</td>\n",
              "      <td>0.722</td>\n",
              "      <td>-0.21</td>\n",
              "      <td>0.663</td>\n",
              "      <td>-0.490</td>\n",
              "      <td>CD56+ NK</td>\n",
              "    </tr>\n",
              "    <tr>\n",
              "      <th>AAGTGCACGTGCTA-1</th>\n",
              "      <td>-0.326</td>\n",
              "      <td>-0.191</td>\n",
              "      <td>1.134</td>\n",
              "      <td>-0.157</td>\n",
              "      <td>-0.174</td>\n",
              "      <td>-0.531</td>\n",
              "      <td>-0.451</td>\n",
              "      <td>-0.486</td>\n",
              "      <td>-0.459</td>\n",
              "      <td>-0.525</td>\n",
              "      <td>...</td>\n",
              "      <td>-0.532</td>\n",
              "      <td>-0.341</td>\n",
              "      <td>-0.905</td>\n",
              "      <td>-0.119</td>\n",
              "      <td>-0.585</td>\n",
              "      <td>0.766</td>\n",
              "      <td>-0.21</td>\n",
              "      <td>-0.636</td>\n",
              "      <td>-0.490</td>\n",
              "      <td>CD4+/CD25 T Reg</td>\n",
              "    </tr>\n",
              "    <tr>\n",
              "      <th>ACACGAACGGAGTG-1</th>\n",
              "      <td>-0.326</td>\n",
              "      <td>-0.191</td>\n",
              "      <td>-0.728</td>\n",
              "      <td>-0.607</td>\n",
              "      <td>-0.174</td>\n",
              "      <td>-0.531</td>\n",
              "      <td>-0.451</td>\n",
              "      <td>0.787</td>\n",
              "      <td>-0.459</td>\n",
              "      <td>1.932</td>\n",
              "      <td>...</td>\n",
              "      <td>0.839</td>\n",
              "      <td>1.679</td>\n",
              "      <td>-0.108</td>\n",
              "      <td>-0.534</td>\n",
              "      <td>-0.585</td>\n",
              "      <td>-0.007</td>\n",
              "      <td>-0.21</td>\n",
              "      <td>-0.636</td>\n",
              "      <td>-0.490</td>\n",
              "      <td>Dendritic</td>\n",
              "    </tr>\n",
              "    <tr>\n",
              "      <th>...</th>\n",
              "      <td>...</td>\n",
              "      <td>...</td>\n",
              "      <td>...</td>\n",
              "      <td>...</td>\n",
              "      <td>...</td>\n",
              "      <td>...</td>\n",
              "      <td>...</td>\n",
              "      <td>...</td>\n",
              "      <td>...</td>\n",
              "      <td>...</td>\n",
              "      <td>...</td>\n",
              "      <td>...</td>\n",
              "      <td>...</td>\n",
              "      <td>...</td>\n",
              "      <td>...</td>\n",
              "      <td>...</td>\n",
              "      <td>...</td>\n",
              "      <td>...</td>\n",
              "      <td>...</td>\n",
              "      <td>...</td>\n",
              "      <td>...</td>\n",
              "    </tr>\n",
              "    <tr>\n",
              "      <th>TGGCACCTCCAACA-8</th>\n",
              "      <td>-0.326</td>\n",
              "      <td>-0.191</td>\n",
              "      <td>0.372</td>\n",
              "      <td>-0.584</td>\n",
              "      <td>-0.174</td>\n",
              "      <td>0.509</td>\n",
              "      <td>-0.451</td>\n",
              "      <td>2.160</td>\n",
              "      <td>-0.459</td>\n",
              "      <td>0.751</td>\n",
              "      <td>...</td>\n",
              "      <td>-0.532</td>\n",
              "      <td>1.758</td>\n",
              "      <td>1.578</td>\n",
              "      <td>0.055</td>\n",
              "      <td>-0.585</td>\n",
              "      <td>0.561</td>\n",
              "      <td>-0.21</td>\n",
              "      <td>0.543</td>\n",
              "      <td>2.593</td>\n",
              "      <td>Dendritic</td>\n",
              "    </tr>\n",
              "    <tr>\n",
              "      <th>TGTGAGTGCTTTAC-8</th>\n",
              "      <td>3.166</td>\n",
              "      <td>-0.191</td>\n",
              "      <td>-0.728</td>\n",
              "      <td>-1.200</td>\n",
              "      <td>-0.174</td>\n",
              "      <td>-0.531</td>\n",
              "      <td>-0.451</td>\n",
              "      <td>-0.486</td>\n",
              "      <td>-0.459</td>\n",
              "      <td>1.536</td>\n",
              "      <td>...</td>\n",
              "      <td>-0.532</td>\n",
              "      <td>-0.341</td>\n",
              "      <td>0.432</td>\n",
              "      <td>0.753</td>\n",
              "      <td>-0.585</td>\n",
              "      <td>-0.171</td>\n",
              "      <td>-0.21</td>\n",
              "      <td>1.268</td>\n",
              "      <td>-0.490</td>\n",
              "      <td>Dendritic</td>\n",
              "    </tr>\n",
              "    <tr>\n",
              "      <th>TGTTACTGGCGATT-8</th>\n",
              "      <td>-0.326</td>\n",
              "      <td>-0.191</td>\n",
              "      <td>-0.728</td>\n",
              "      <td>-1.200</td>\n",
              "      <td>-0.174</td>\n",
              "      <td>1.784</td>\n",
              "      <td>-0.451</td>\n",
              "      <td>-0.486</td>\n",
              "      <td>-0.459</td>\n",
              "      <td>-0.525</td>\n",
              "      <td>...</td>\n",
              "      <td>-0.532</td>\n",
              "      <td>-0.341</td>\n",
              "      <td>1.858</td>\n",
              "      <td>0.814</td>\n",
              "      <td>-0.585</td>\n",
              "      <td>0.152</td>\n",
              "      <td>-0.21</td>\n",
              "      <td>-0.636</td>\n",
              "      <td>1.226</td>\n",
              "      <td>CD4+/CD25 T Reg</td>\n",
              "    </tr>\n",
              "    <tr>\n",
              "      <th>TTCAGTACCGGGAA-8</th>\n",
              "      <td>-0.326</td>\n",
              "      <td>-0.191</td>\n",
              "      <td>-0.728</td>\n",
              "      <td>-0.386</td>\n",
              "      <td>-0.174</td>\n",
              "      <td>-0.531</td>\n",
              "      <td>-0.451</td>\n",
              "      <td>-0.486</td>\n",
              "      <td>-0.459</td>\n",
              "      <td>-0.525</td>\n",
              "      <td>...</td>\n",
              "      <td>-0.532</td>\n",
              "      <td>-0.341</td>\n",
              "      <td>2.378</td>\n",
              "      <td>0.420</td>\n",
              "      <td>0.888</td>\n",
              "      <td>-0.326</td>\n",
              "      <td>-0.21</td>\n",
              "      <td>-0.636</td>\n",
              "      <td>-0.490</td>\n",
              "      <td>CD19+ B</td>\n",
              "    </tr>\n",
              "    <tr>\n",
              "      <th>TTGAGGTGGAGAGC-8</th>\n",
              "      <td>-0.326</td>\n",
              "      <td>-0.191</td>\n",
              "      <td>0.148</td>\n",
              "      <td>0.762</td>\n",
              "      <td>-0.174</td>\n",
              "      <td>0.298</td>\n",
              "      <td>-0.451</td>\n",
              "      <td>-0.486</td>\n",
              "      <td>0.505</td>\n",
              "      <td>-0.525</td>\n",
              "      <td>...</td>\n",
              "      <td>-0.532</td>\n",
              "      <td>-0.341</td>\n",
              "      <td>1.073</td>\n",
              "      <td>-0.628</td>\n",
              "      <td>-0.585</td>\n",
              "      <td>0.239</td>\n",
              "      <td>-0.21</td>\n",
              "      <td>-0.636</td>\n",
              "      <td>-0.490</td>\n",
              "      <td>Dendritic</td>\n",
              "    </tr>\n",
              "  </tbody>\n",
              "</table>\n",
              "<p>700 rows × 766 columns</p>\n",
              "</div>\n",
              "      <button class=\"colab-df-convert\" onclick=\"convertToInteractive('df-f16a7c6c-ceac-4123-89d5-75b48794c79b')\"\n",
              "              title=\"Convert this dataframe to an interactive table.\"\n",
              "              style=\"display:none;\">\n",
              "        \n",
              "  <svg xmlns=\"http://www.w3.org/2000/svg\" height=\"24px\"viewBox=\"0 0 24 24\"\n",
              "       width=\"24px\">\n",
              "    <path d=\"M0 0h24v24H0V0z\" fill=\"none\"/>\n",
              "    <path d=\"M18.56 5.44l.94 2.06.94-2.06 2.06-.94-2.06-.94-.94-2.06-.94 2.06-2.06.94zm-11 1L8.5 8.5l.94-2.06 2.06-.94-2.06-.94L8.5 2.5l-.94 2.06-2.06.94zm10 10l.94 2.06.94-2.06 2.06-.94-2.06-.94-.94-2.06-.94 2.06-2.06.94z\"/><path d=\"M17.41 7.96l-1.37-1.37c-.4-.4-.92-.59-1.43-.59-.52 0-1.04.2-1.43.59L10.3 9.45l-7.72 7.72c-.78.78-.78 2.05 0 2.83L4 21.41c.39.39.9.59 1.41.59.51 0 1.02-.2 1.41-.59l7.78-7.78 2.81-2.81c.8-.78.8-2.07 0-2.86zM5.41 20L4 18.59l7.72-7.72 1.47 1.35L5.41 20z\"/>\n",
              "  </svg>\n",
              "      </button>\n",
              "      \n",
              "  <style>\n",
              "    .colab-df-container {\n",
              "      display:flex;\n",
              "      flex-wrap:wrap;\n",
              "      gap: 12px;\n",
              "    }\n",
              "\n",
              "    .colab-df-convert {\n",
              "      background-color: #E8F0FE;\n",
              "      border: none;\n",
              "      border-radius: 50%;\n",
              "      cursor: pointer;\n",
              "      display: none;\n",
              "      fill: #1967D2;\n",
              "      height: 32px;\n",
              "      padding: 0 0 0 0;\n",
              "      width: 32px;\n",
              "    }\n",
              "\n",
              "    .colab-df-convert:hover {\n",
              "      background-color: #E2EBFA;\n",
              "      box-shadow: 0px 1px 2px rgba(60, 64, 67, 0.3), 0px 1px 3px 1px rgba(60, 64, 67, 0.15);\n",
              "      fill: #174EA6;\n",
              "    }\n",
              "\n",
              "    [theme=dark] .colab-df-convert {\n",
              "      background-color: #3B4455;\n",
              "      fill: #D2E3FC;\n",
              "    }\n",
              "\n",
              "    [theme=dark] .colab-df-convert:hover {\n",
              "      background-color: #434B5C;\n",
              "      box-shadow: 0px 1px 3px 1px rgba(0, 0, 0, 0.15);\n",
              "      filter: drop-shadow(0px 1px 2px rgba(0, 0, 0, 0.3));\n",
              "      fill: #FFFFFF;\n",
              "    }\n",
              "  </style>\n",
              "\n",
              "      <script>\n",
              "        const buttonEl =\n",
              "          document.querySelector('#df-f16a7c6c-ceac-4123-89d5-75b48794c79b button.colab-df-convert');\n",
              "        buttonEl.style.display =\n",
              "          google.colab.kernel.accessAllowed ? 'block' : 'none';\n",
              "\n",
              "        async function convertToInteractive(key) {\n",
              "          const element = document.querySelector('#df-f16a7c6c-ceac-4123-89d5-75b48794c79b');\n",
              "          const dataTable =\n",
              "            await google.colab.kernel.invokeFunction('convertToInteractive',\n",
              "                                                     [key], {});\n",
              "          if (!dataTable) return;\n",
              "\n",
              "          const docLinkHtml = 'Like what you see? Visit the ' +\n",
              "            '<a target=\"_blank\" href=https://colab.research.google.com/notebooks/data_table.ipynb>data table notebook</a>'\n",
              "            + ' to learn more about interactive tables.';\n",
              "          element.innerHTML = '';\n",
              "          dataTable['output_type'] = 'display_data';\n",
              "          await google.colab.output.renderOutput(dataTable, element);\n",
              "          const docLink = document.createElement('div');\n",
              "          docLink.innerHTML = docLinkHtml;\n",
              "          element.appendChild(docLink);\n",
              "        }\n",
              "      </script>\n",
              "    </div>\n",
              "  </div>\n",
              "  "
            ]
          },
          "metadata": {},
          "execution_count": 4
        }
      ],
      "source": [
        "labels_pd.index = labels_pd['index']\n",
        "labels_pd.drop(\"index\", axis=1, inplace=True)\n",
        "counts_pd.index = counts_pd['Unnamed: 0']\n",
        "counts_pd.drop(\"Unnamed: 0\", axis=1, inplace=True)\n",
        "\n",
        "df = counts_pd.merge(labels_pd, left_index=True, right_index=True).dropna()\n",
        "df"
      ]
    },
    {
      "cell_type": "markdown",
      "metadata": {
        "id": "wUxSCyz7jBQf"
      },
      "source": [
        "One-hot encode the cell-type.\n",
        "\n",
        "Shuffle your data. Make sure your labels and the counts are shuffled together.\n",
        "\n",
        "Split into train and test sets (80:20 split)"
      ]
    },
    {
      "cell_type": "code",
      "execution_count": null,
      "metadata": {
        "colab": {
          "base_uri": "https://localhost:8080/"
        },
        "id": "XDTqBhcA7V8t",
        "outputId": "3361fc13-c43d-4b64-9a9f-c5d26a71a5b4"
      },
      "outputs": [
        {
          "output_type": "stream",
          "name": "stdout",
          "text": [
            "['CD14+ Monocyte' 'Dendritic' 'CD56+ NK' 'CD4+/CD25 T Reg' 'CD19+ B'\n",
            " 'CD8+ Cytotoxic T' 'CD4+/CD45RO+ Memory' 'CD8+/CD45RA+ Naive Cytotoxic'\n",
            " 'CD4+/CD45RA+/CD25- Naive T' 'CD34+']\n"
          ]
        }
      ],
      "source": [
        "categories = df['bulk_labels'].unique()\n",
        "print(categories)\n",
        "\n",
        "#one-hot encoding\n",
        "y = np.zeros((len(df), len(categories)))\n",
        "for i in range(len(df)):\n",
        "    cell_type = df.iloc[i]['bulk_labels']\n",
        "    pos = np.where(categories == cell_type)[0]\n",
        "    y[i, pos] = 1\n",
        "\n",
        "#remove label when processing input data\n",
        "X = df.drop('bulk_labels', axis=1).values\n",
        "\n",
        "#shufle and 80:20 split\n",
        "np.random.seed(100)\n",
        "permutation = np.random.permutation(len(X))\n",
        "X, y = X[permutation], y[permutation]\n",
        "\n",
        "X_train, y_train = X[:int(len(X)*0.8)], y[:int(len(y)*0.8)]\n",
        "X_test, y_test = X[int(len(X)*0.8):], y[int(len(y)*0.8):]"
      ]
    },
    {
      "cell_type": "code",
      "execution_count": null,
      "metadata": {
        "colab": {
          "base_uri": "https://localhost:8080/",
          "height": 868
        },
        "id": "l0Xrhu4LZNa9",
        "outputId": "12e36060-0058-4e2a-d0c6-efe9796e1eb0"
      },
      "outputs": [
        {
          "output_type": "execute_result",
          "data": {
            "text/plain": [
              "<matplotlib.image.AxesImage at 0x7f676623ab90>"
            ]
          },
          "metadata": {},
          "execution_count": 6
        },
        {
          "output_type": "display_data",
          "data": {
            "text/plain": [
              "<Figure size 2700x900 with 1 Axes>"
            ],
            "image/png": "[encoded data removed]"
          },
          "metadata": {}
        }
      ],
      "source": [
        "#Visualize the One-hot encoded Prediction Labels\n",
        "import matplotlib.pyplot as plt\n",
        "plt.figure(figsize=(9,3), dpi=300)\n",
        "plt.imshow(y_train[:50])"
      ]
    },
    {
      "cell_type": "markdown",
      "metadata": {
        "id": "XHIg7i1k7U-G"
      },
      "source": [
        "Apply classification algorithms to the training data, tune on validation data (if present), and evaluate on test data.\n",
        "\n",
        "Try out a few different classifiers, and experiment with different parameters! You can use decision trees, random forests, logistic regressions, KNNs, feedforward neural networks, etc. You can also try applying ensemble methods such as bagging and boosting to these classifiers.\n",
        "\n",
        "You can also apply classification downstream of last week's autoencoder latent space representation.\n",
        "\n",
        "A good target accuracy to aim for is at least 80% on the test set (but there is no strict grading cutoff for accuracy)."
      ]
    },
    {
      "cell_type": "code",
      "execution_count": null,
      "metadata": {
        "id": "b8mvigLP7Sej"
      },
      "outputs": [],
      "source": [
        "# Decision trees: https://scikit-learn.org/stable/modules/tree.html\n",
        "# Ensemble methods: https://scikit-learn.org/stable/modules/ensemble.html\n"
      ]
    },
    {
      "cell_type": "code",
      "execution_count": null,
      "metadata": {
        "id": "Gk1sfdNe76Kl"
      },
      "outputs": [],
      "source": [
        "# FFNN hints: \n",
        "# Use softmax at the end, reLU for the rest\n",
        "# Add layers until desired loss\n",
        "# Categorical cross-entropy for loss func\n",
        "# Add dropout layers to avoid overfitting\n",
        "# Can also implement bagging for FFNNs (but probably not necessary)\n"
      ]
    },
    {
      "cell_type": "code",
      "execution_count": null,
      "metadata": {
        "id": "u4Q6KU3c8u-E"
      },
      "outputs": [],
      "source": [
        "# Cross-validation: https://scikit-learn.org/stable/modules/cross_validation.html\n",
        "#(recommended for decision trees/random forests)\n",
        "# from sklearn.model_selection import cross_val_score\n",
        "# scores = cross_val_score(clf, X, y, cv=5)\n",
        "# where: \n",
        "# clf -> classifier object\n",
        "# cv -> number of folds of cross-validation (can also pass output of ShuffleSplit)"
      ]
    },
    {
      "cell_type": "code",
      "source": [
        "from sklearn.ensemble import RandomForestClassifier\n",
        "from sklearn.metrics import accuracy_score, classification_report\n",
        "from sklearn.model_selection import GridSearchCV, cross_val_score"
      ],
      "metadata": {
        "id": "_baVwmWbJqTm"
      },
      "execution_count": null,
      "outputs": []
    },
    {
      "cell_type": "markdown",
      "source": [
        "#### Get original label of y"
      ],
      "metadata": {
        "id": "p_xJ5gJOQvoF"
      }
    },
    {
      "cell_type": "code",
      "source": [
        "y_train_back = np.argmax(y_train, axis=1)\n",
        "y_test_back = np.argmax(y_test, axis=1)"
      ],
      "metadata": {
        "id": "NjgHZuG9Qj6C"
      },
      "execution_count": null,
      "outputs": []
    },
    {
      "cell_type": "markdown",
      "source": [
        "### cross_val_score\n",
        "cross_val_score returns an array of scores, one for each fold in the cross-validation. These scores can be used to estimate the classifier's performance and its generalization ability on unseen data. You can calculate the **mean and standard deviation** of these scores to get a summary of the model's performance."
      ],
      "metadata": {
        "id": "k46lWHJBLj0F"
      }
    },
    {
      "cell_type": "markdown",
      "source": [
        "## RandomForest"
      ],
      "metadata": {
        "id": "oHJffdO0LvHO"
      }
    },
    {
      "cell_type": "code",
      "source": [
        "# Using corss_val_score to find the best numbers of tree\n",
        "rfc = RandomForestClassifier()\n",
        "n_estimators_range = np.arange(10,200,10)\n",
        "\n",
        "rfc_mean_score = []\n",
        "rfc_std_score = [] # in case the std is too large\n",
        "\n",
        "for n_tree in n_estimators_range:\n",
        "  rfc = RandomForestClassifier(n_tree)\n",
        "  score = cross_val_score(rfc, X_train, y_train_back, cv=5, scoring='accuracy')\n",
        "  mean, std = np.mean(score), np.std(score)\n",
        "  rfc_mean_score.append(mean)\n",
        "  rfc_std_score.append(std)\n",
        "\n",
        "best_n_estimators = n_estimators_range[np.argmax(rfc_mean_score)]\n",
        "score_of_best = rfc_mean_score[np.argmax(rfc_mean_score)]\n",
        "std_of_best = rfc_std_score[np.argmax(rfc_mean_score)]\n",
        "print(f\"Best number of trees (n_estimators): {best_n_estimators} with the mean score of {score_of_best} and std of: {std_of_best}\")"
      ],
      "metadata": {
        "colab": {
          "base_uri": "https://localhost:8080/"
        },
        "id": "dSXl0_lwKCRv",
        "outputId": "759ed29c-ff21-4189-c18f-7e45f3663d95"
      },
      "execution_count": null,
      "outputs": [
        {
          "output_type": "stream",
          "name": "stdout",
          "text": [
            "Best number of trees (n_estimators): 130 with the mean score of 0.8125 and std of: 0.036157958448779615\n"
          ]
        }
      ]
    },
    {
      "cell_type": "code",
      "execution_count": null,
      "metadata": {
        "id": "7Trjfxkk8wyg",
        "colab": {
          "base_uri": "https://localhost:8080/",
          "height": 487
        },
        "outputId": "dd86d6f9-8867-4564-a9d0-4e39292c8d97"
      },
      "outputs": [
        {
          "output_type": "display_data",
          "data": {
            "text/plain": [
              "<Figure size 1000x500 with 1 Axes>"
            ],
            "image/png": "[encoded data removed]"
          },
          "metadata": {}
        }
      ],
      "source": [
        "# plot the mean and std\n",
        "plt.figure(figsize=(10,5))\n",
        "plt.errorbar(n_estimators_range, rfc_mean_score, yerr=rfc_std_score, fmt='-o',\n",
        "             color='black', capsize=5, label='Mean CV Score with Std Dev')\n",
        "plt.xlabel(\"Number of Trees\")\n",
        "plt.ylabel(\"Cross-Validation Score with Std\")\n",
        "plt.legend()\n",
        "plt.title(\"Random Forest: Mean CV Scores with Standard Deviation vs Number of Trees\")\n",
        "plt.show()"
      ]
    },
    {
      "cell_type": "code",
      "source": [
        "# obtain accuracy of test set using training rfc\n",
        "rfc = RandomForestClassifier(best_n_estimators)\n",
        "rfc.fit(X_train, y_train_back)\n",
        "pred_test = rfc.predict(X_test)\n",
        "accuracy = accuracy_score(pred_test, y_test_back)\n",
        "print(\"accuracy is \", accuracy)\n",
        "print(classification_report(pred_test, y_test_back))"
      ],
      "metadata": {
        "colab": {
          "base_uri": "https://localhost:8080/"
        },
        "id": "SNIZC6yZVe9E",
        "outputId": "dceadec9-3b70-4e45-d099-7dedfba36271"
      },
      "execution_count": null,
      "outputs": [
        {
          "output_type": "stream",
          "name": "stdout",
          "text": [
            "accuracy is  0.8\n",
            "              precision    recall  f1-score   support\n",
            "\n",
            "           0       0.87      0.76      0.81        34\n",
            "           1       0.86      0.86      0.86        50\n",
            "           2       0.83      0.83      0.83         6\n",
            "           3       0.90      0.60      0.72        15\n",
            "           4       1.00      0.94      0.97        16\n",
            "           5       0.57      0.67      0.62        12\n",
            "           6       0.00      0.00      0.00         0\n",
            "           7       0.56      0.83      0.67         6\n",
            "           8       0.00      0.00      0.00         0\n",
            "           9       0.33      1.00      0.50         1\n",
            "\n",
            "    accuracy                           0.80       140\n",
            "   macro avg       0.59      0.65      0.60       140\n",
            "weighted avg       0.84      0.80      0.81       140\n",
            "\n"
          ]
        },
        {
          "output_type": "stream",
          "name": "stderr",
          "text": [
            "/usr/local/lib/python3.10/dist-packages/sklearn/metrics/_classification.py:1344: UndefinedMetricWarning: Recall and F-score are ill-defined and being set to 0.0 in labels with no true samples. Use `zero_division` parameter to control this behavior.\n",
            "  _warn_prf(average, modifier, msg_start, len(result))\n",
            "/usr/local/lib/python3.10/dist-packages/sklearn/metrics/_classification.py:1344: UndefinedMetricWarning: Recall and F-score are ill-defined and being set to 0.0 in labels with no true samples. Use `zero_division` parameter to control this behavior.\n",
            "  _warn_prf(average, modifier, msg_start, len(result))\n",
            "/usr/local/lib/python3.10/dist-packages/sklearn/metrics/_classification.py:1344: UndefinedMetricWarning: Recall and F-score are ill-defined and being set to 0.0 in labels with no true samples. Use `zero_division` parameter to control this behavior.\n",
            "  _warn_prf(average, modifier, msg_start, len(result))\n"
          ]
        }
      ]
    },
    {
      "cell_type": "code",
      "execution_count": null,
      "metadata": {
        "id": "jGa5B6Ir9KN4",
        "colab": {
          "base_uri": "https://localhost:8080/"
        },
        "outputId": "7770b4ae-c56a-4d88-ba06-b3f91055418d"
      },
      "outputs": [
        {
          "output_type": "stream",
          "name": "stdout",
          "text": [
            "Fitting 5 folds for each of 180 candidates, totalling 900 fits\n",
            "Best hyperparameters: {'max_depth': 20, 'min_samples_leaf': 1, 'min_samples_split': 2, 'n_estimators': 150}\n"
          ]
        }
      ],
      "source": [
        "# using grid search\n",
        "param_grid = {'n_estimators': [50, 75, 100, 125, 150],\n",
        "    'max_depth': [None,10, 20, 40],\n",
        "    'min_samples_split': [2, 5, 10],\n",
        "    'min_samples_leaf': [1, 2, 4],}\n",
        "# initialize another rfc model for grid search\n",
        "rfc_grid = RandomForestClassifier()\n",
        "# initialize grid seach for rfc\n",
        "grid_search_rfc = GridSearchCV(estimator=rfc_grid, param_grid=param_grid, scoring='accuracy', cv=5, verbose=2, n_jobs=-1)\n",
        "grid_search_rfc.fit(X_train, y_train_back)\n",
        "best_params = grid_search_rfc.best_params_\n",
        "print(f\"Best hyperparameters: {best_params}\")\n",
        "best_rfc = grid_search_rfc.best_estimator_"
      ]
    },
    {
      "cell_type": "code",
      "source": [
        "# obtain accuracy of test set using training rfc\n",
        "best_rfc.fit(X_train, y_train_back)\n",
        "pred_test = best_rfc.predict(X_test)\n",
        "# rfc_grid_best = RandomForestClassifier(n_estimators=125, max_depth=40, min_samples_split=5, min_samples_leaf=1)\n",
        "# rfc_grid_best.fit(X_train, y_train_back)\n",
        "# pred_test = rfc_grid_best.predict(X_test)\n",
        "accuracy = accuracy_score(pred_test, y_test_back)\n",
        "print(\"accuracy is \", accuracy)\n",
        "print(classification_report(pred_test, y_test_back))"
      ],
      "metadata": {
        "colab": {
          "base_uri": "https://localhost:8080/"
        },
        "id": "oLTLsEueaT0b",
        "outputId": "35d58843-e232-4505-a77d-c1676fa63afd"
      },
      "execution_count": null,
      "outputs": [
        {
          "output_type": "stream",
          "name": "stdout",
          "text": [
            "accuracy is  0.8214285714285714\n",
            "              precision    recall  f1-score   support\n",
            "\n",
            "           0       0.90      0.75      0.82        36\n",
            "           1       0.86      0.90      0.88        48\n",
            "           2       0.67      0.80      0.73         5\n",
            "           3       1.00      0.67      0.80        15\n",
            "           4       1.00      1.00      1.00        15\n",
            "           5       0.64      0.64      0.64        14\n",
            "           6       0.00      0.00      0.00         0\n",
            "           7       0.56      1.00      0.71         5\n",
            "           8       0.00      0.00      0.00         0\n",
            "           9       0.67      1.00      0.80         2\n",
            "\n",
            "    accuracy                           0.82       140\n",
            "   macro avg       0.63      0.68      0.64       140\n",
            "weighted avg       0.86      0.82      0.83       140\n",
            "\n"
          ]
        },
        {
          "output_type": "stream",
          "name": "stderr",
          "text": [
            "/usr/local/lib/python3.10/dist-packages/sklearn/metrics/_classification.py:1344: UndefinedMetricWarning: Recall and F-score are ill-defined and being set to 0.0 in labels with no true samples. Use `zero_division` parameter to control this behavior.\n",
            "  _warn_prf(average, modifier, msg_start, len(result))\n",
            "/usr/local/lib/python3.10/dist-packages/sklearn/metrics/_classification.py:1344: UndefinedMetricWarning: Recall and F-score are ill-defined and being set to 0.0 in labels with no true samples. Use `zero_division` parameter to control this behavior.\n",
            "  _warn_prf(average, modifier, msg_start, len(result))\n",
            "/usr/local/lib/python3.10/dist-packages/sklearn/metrics/_classification.py:1344: UndefinedMetricWarning: Recall and F-score are ill-defined and being set to 0.0 in labels with no true samples. Use `zero_division` parameter to control this behavior.\n",
            "  _warn_prf(average, modifier, msg_start, len(result))\n"
          ]
        }
      ]
    },
    {
      "cell_type": "markdown",
      "source": [
        "## Decision Tree"
      ],
      "metadata": {
        "id": "BUEgj9HaZozO"
      }
    },
    {
      "cell_type": "code",
      "execution_count": null,
      "metadata": {
        "id": "I2xcMPP09KxV"
      },
      "outputs": [],
      "source": [
        "from sklearn.tree import DecisionTreeClassifier\n",
        "# cross_val_score\n",
        "#dt = DecisionTreeClassifier()\n",
        "max_depth_range = np.arange(1,20,2)\n",
        "\n",
        "dt_mean_score = []\n",
        "dt_std_score = [] # in case the std is too large\n",
        "\n",
        "for depth in max_depth_range:\n",
        "  dt = DecisionTreeClassifier(max_depth=depth)\n",
        "  score = cross_val_score(dt, X_train, y_train_back, cv=5, scoring='accuracy', error_score='raise')\n",
        "  mean, std = np.mean(score), np.std(score)\n",
        "  dt_mean_score.append(mean)\n",
        "  dt_std_score.append(std)\n"
      ]
    },
    {
      "cell_type": "code",
      "source": [
        "\n",
        "best_depth = max_depth_range[np.argmax(dt_mean_score)]\n",
        "score_of_best = dt_mean_score[np.argmax(dt_mean_score)]\n",
        "std_of_best = dt_std_score[np.argmax(dt_mean_score)]\n",
        "print(f\"Best max depth: {best_depth} with the mean score of {score_of_best} and std of: {std_of_best}\")"
      ],
      "metadata": {
        "colab": {
          "base_uri": "https://localhost:8080/"
        },
        "id": "pmr5PXrlfd0I",
        "outputId": "cdd038ff-c409-47b9-f95c-60d9e181cf34"
      },
      "execution_count": null,
      "outputs": [
        {
          "output_type": "stream",
          "name": "stdout",
          "text": [
            "Best max depth: 5 with the mean score of 0.7303571428571428 and std of: 0.05369034420847469\n"
          ]
        }
      ]
    },
    {
      "cell_type": "code",
      "execution_count": null,
      "metadata": {
        "id": "1DPmGoHo9uwx",
        "colab": {
          "base_uri": "https://localhost:8080/",
          "height": 487
        },
        "outputId": "a2e2f174-627b-4176-d3df-90925d7955ce"
      },
      "outputs": [
        {
          "output_type": "display_data",
          "data": {
            "text/plain": [
              "<Figure size 1000x500 with 1 Axes>"
            ],
            "image/png": "[encoded data removed]"
          },
          "metadata": {}
        }
      ],
      "source": [
        "# plot the mean and std\n",
        "plt.figure(figsize=(10,5))\n",
        "plt.errorbar(max_depth_range, dt_mean_score, yerr=dt_std_score, fmt='-o',\n",
        "             color='black', capsize=5, label='Mean CV Score with Std Dev')\n",
        "plt.xlabel(\"Max Depth\")\n",
        "plt.ylabel(\"Cross-Validation Score with Std\")\n",
        "plt.legend()\n",
        "plt.title(\"Decision Tree: Mean CV Scores with Standard Deviation vs Number of Trees\")\n",
        "plt.show()"
      ]
    },
    {
      "cell_type": "code",
      "execution_count": null,
      "metadata": {
        "id": "Kx7cMeYPFiEA",
        "colab": {
          "base_uri": "https://localhost:8080/"
        },
        "outputId": "e4aac989-703a-49ff-8484-62eaecfdf3cd"
      },
      "outputs": [
        {
          "output_type": "stream",
          "name": "stdout",
          "text": [
            "accuracy is  0.6928571428571428\n",
            "              precision    recall  f1-score   support\n",
            "\n",
            "           0       0.63      0.70      0.67        27\n",
            "           1       0.86      0.78      0.82        55\n",
            "           2       0.67      0.67      0.67         6\n",
            "           3       0.90      0.53      0.67        17\n",
            "           4       0.80      0.92      0.86        13\n",
            "           5       0.43      0.46      0.44        13\n",
            "           6       0.00      0.00      0.00         0\n",
            "           7       0.33      0.50      0.40         6\n",
            "           8       0.00      0.00      0.00         0\n",
            "           9       0.33      0.33      0.33         3\n",
            "\n",
            "    accuracy                           0.69       140\n",
            "   macro avg       0.50      0.49      0.49       140\n",
            "weighted avg       0.73      0.69      0.71       140\n",
            "\n"
          ]
        },
        {
          "output_type": "stream",
          "name": "stderr",
          "text": [
            "/usr/local/lib/python3.10/dist-packages/sklearn/metrics/_classification.py:1344: UndefinedMetricWarning: Recall and F-score are ill-defined and being set to 0.0 in labels with no true samples. Use `zero_division` parameter to control this behavior.\n",
            "  _warn_prf(average, modifier, msg_start, len(result))\n",
            "/usr/local/lib/python3.10/dist-packages/sklearn/metrics/_classification.py:1344: UndefinedMetricWarning: Recall and F-score are ill-defined and being set to 0.0 in labels with no true samples. Use `zero_division` parameter to control this behavior.\n",
            "  _warn_prf(average, modifier, msg_start, len(result))\n",
            "/usr/local/lib/python3.10/dist-packages/sklearn/metrics/_classification.py:1344: UndefinedMetricWarning: Recall and F-score are ill-defined and being set to 0.0 in labels with no true samples. Use `zero_division` parameter to control this behavior.\n",
            "  _warn_prf(average, modifier, msg_start, len(result))\n"
          ]
        }
      ],
      "source": [
        "# obtain accuracy of test set using training rfc\n",
        "dt = DecisionTreeClassifier(max_depth=best_depth) \n",
        "dt.fit(X_train, y_train_back)\n",
        "pred_test = dt.predict(X_test)\n",
        "accuracy = accuracy_score(pred_test, y_test_back)\n",
        "print(\"accuracy is \", accuracy)\n",
        "print(classification_report(pred_test, y_test_back))"
      ]
    },
    {
      "cell_type": "code",
      "source": [
        "# using grid search\n",
        "param_grid = {\n",
        "    'max_depth': [None,2, 4, 6, 8],\n",
        "    'min_samples_split': [1, 2, 5, 7,10],\n",
        "    'min_samples_leaf': [1, 2, 4, 6, 8],}\n",
        "# initialize another rfc model for grid search\n",
        "dt_grid = DecisionTreeClassifier()\n",
        "# initialize grid seach for rfc\n",
        "grid_search_dt = GridSearchCV(estimator=dt_grid, param_grid=param_grid, scoring='accuracy', cv=5, verbose=2, n_jobs=-1)\n",
        "grid_search_dt.fit(X_train, y_train_back)\n",
        "best_params = grid_search_dt.best_params_\n",
        "print(f\"Best hyperparameters: {best_params}\")\n",
        "best_dt = grid_search_dt.best_estimator_"
      ],
      "metadata": {
        "id": "iTZ9mSxXjha6",
        "colab": {
          "base_uri": "https://localhost:8080/"
        },
        "outputId": "821edece-e3a5-455c-f671-94627f4afbf9"
      },
      "execution_count": null,
      "outputs": [
        {
          "output_type": "stream",
          "name": "stdout",
          "text": [
            "Fitting 5 folds for each of 125 candidates, totalling 625 fits\n",
            "Best hyperparameters: {'max_depth': 6, 'min_samples_leaf': 8, 'min_samples_split': 2}\n"
          ]
        },
        {
          "output_type": "stream",
          "name": "stderr",
          "text": [
            "/usr/local/lib/python3.10/dist-packages/sklearn/model_selection/_validation.py:378: FitFailedWarning: \n",
            "125 fits failed out of a total of 625.\n",
            "The score on these train-test partitions for these parameters will be set to nan.\n",
            "If these failures are not expected, you can try to debug them by setting error_score='raise'.\n",
            "\n",
            "Below are more details about the failures:\n",
            "--------------------------------------------------------------------------------\n",
            "125 fits failed with the following error:\n",
            "Traceback (most recent call last):\n",
            "  File \"/usr/local/lib/python3.10/dist-packages/sklearn/model_selection/_validation.py\", line 686, in _fit_and_score\n",
            "    estimator.fit(X_train, y_train, **fit_params)\n",
            "  File \"/usr/local/lib/python3.10/dist-packages/sklearn/tree/_classes.py\", line 889, in fit\n",
            "    super().fit(\n",
            "  File \"/usr/local/lib/python3.10/dist-packages/sklearn/tree/_classes.py\", line 177, in fit\n",
            "    self._validate_params()\n",
            "  File \"/usr/local/lib/python3.10/dist-packages/sklearn/base.py\", line 600, in _validate_params\n",
            "    validate_parameter_constraints(\n",
            "  File \"/usr/local/lib/python3.10/dist-packages/sklearn/utils/_param_validation.py\", line 97, in validate_parameter_constraints\n",
            "    raise InvalidParameterError(\n",
            "sklearn.utils._param_validation.InvalidParameterError: The 'min_samples_split' parameter of DecisionTreeClassifier must be an int in the range [2, inf) or a float in the range (0.0, 1.0]. Got 1 instead.\n",
            "\n",
            "  warnings.warn(some_fits_failed_message, FitFailedWarning)\n",
            "/usr/local/lib/python3.10/dist-packages/sklearn/model_selection/_search.py:952: UserWarning: One or more of the test scores are non-finite: [       nan 0.69642857 0.70892857 0.69107143 0.70714286        nan\n",
            " 0.71071429 0.71071429 0.70535714 0.70714286        nan 0.70357143\n",
            " 0.69821429 0.7        0.7125            nan 0.7        0.7125\n",
            " 0.70892857 0.70892857        nan 0.74107143 0.75       0.75\n",
            " 0.74464286        nan 0.66607143 0.66607143 0.66607143 0.66607143\n",
            "        nan 0.66607143 0.66607143 0.66607143 0.66607143        nan\n",
            " 0.66607143 0.66607143 0.66607143 0.66607143        nan 0.66607143\n",
            " 0.66607143 0.66607143 0.66607143        nan 0.66607143 0.66607143\n",
            " 0.66607143 0.66607143        nan 0.725      0.72321429 0.72678571\n",
            " 0.72678571        nan 0.725      0.72142857 0.71785714 0.72678571\n",
            "        nan 0.72142857 0.72321429 0.72142857 0.72142857        nan\n",
            " 0.71785714 0.725      0.72321429 0.725             nan 0.73214286\n",
            " 0.72678571 0.73392857 0.73214286        nan 0.72857143 0.72142857\n",
            " 0.72857143 0.71785714        nan 0.73392857 0.72857143 0.73571429\n",
            " 0.73214286        nan 0.73392857 0.73035714 0.73392857 0.73214286\n",
            "        nan 0.72678571 0.72142857 0.725      0.72142857        nan\n",
            " 0.75178571 0.75       0.74642857 0.74464286        nan 0.70178571\n",
            " 0.71607143 0.70535714 0.70714286        nan 0.7125     0.71428571\n",
            " 0.69464286 0.70535714        nan 0.71428571 0.70535714 0.70714286\n",
            " 0.70714286        nan 0.71071429 0.70892857 0.70892857 0.7125\n",
            "        nan 0.73035714 0.73214286 0.725      0.725     ]\n",
            "  warnings.warn(\n"
          ]
        }
      ]
    },
    {
      "cell_type": "code",
      "source": [
        "# obtain accuracy of test set using training dt\n",
        "best_dt.fit(X_train, y_train_back)\n",
        "pred_test = best_dt.predict(X_test)\n",
        "accuracy = accuracy_score(pred_test, y_test_back)\n",
        "print(\"accuracy of decision tree classifier is \", accuracy)\n",
        "print(classification_report(pred_test, y_test_back))"
      ],
      "metadata": {
        "colab": {
          "base_uri": "https://localhost:8080/"
        },
        "id": "svmQEfRMhUIb",
        "outputId": "6881a0e7-65ed-4923-e588-8bf761cbe379"
      },
      "execution_count": null,
      "outputs": [
        {
          "output_type": "stream",
          "name": "stdout",
          "text": [
            "accuracy of decision tree classifier is  0.7357142857142858\n",
            "              precision    recall  f1-score   support\n",
            "\n",
            "           0       0.67      0.77      0.71        26\n",
            "           1       0.90      0.79      0.84        57\n",
            "           2       0.67      0.67      0.67         6\n",
            "           3       0.70      0.50      0.58        14\n",
            "           4       0.87      0.93      0.90        14\n",
            "           5       0.50      0.78      0.61         9\n",
            "           6       0.00      0.00      0.00         2\n",
            "           7       0.67      0.60      0.63        10\n",
            "           8       0.00      0.00      0.00         0\n",
            "           9       0.33      0.50      0.40         2\n",
            "\n",
            "    accuracy                           0.74       140\n",
            "   macro avg       0.53      0.55      0.53       140\n",
            "weighted avg       0.76      0.74      0.74       140\n",
            "\n"
          ]
        },
        {
          "output_type": "stream",
          "name": "stderr",
          "text": [
            "/usr/local/lib/python3.10/dist-packages/sklearn/metrics/_classification.py:1344: UndefinedMetricWarning: Recall and F-score are ill-defined and being set to 0.0 in labels with no true samples. Use `zero_division` parameter to control this behavior.\n",
            "  _warn_prf(average, modifier, msg_start, len(result))\n",
            "/usr/local/lib/python3.10/dist-packages/sklearn/metrics/_classification.py:1344: UndefinedMetricWarning: Recall and F-score are ill-defined and being set to 0.0 in labels with no true samples. Use `zero_division` parameter to control this behavior.\n",
            "  _warn_prf(average, modifier, msg_start, len(result))\n",
            "/usr/local/lib/python3.10/dist-packages/sklearn/metrics/_classification.py:1344: UndefinedMetricWarning: Recall and F-score are ill-defined and being set to 0.0 in labels with no true samples. Use `zero_division` parameter to control this behavior.\n",
            "  _warn_prf(average, modifier, msg_start, len(result))\n"
          ]
        }
      ]
    },
    {
      "cell_type": "markdown",
      "source": [
        "## AdaBoost"
      ],
      "metadata": {
        "id": "ei1QsuC0hmKX"
      }
    },
    {
      "cell_type": "code",
      "source": [
        "\n",
        "from sklearn.ensemble import AdaBoostClassifier\n",
        "# cross_val_score\n",
        "#dt = DecisionTreeClassifier()\n",
        "n_estimators_range = np.arange(10,200,10)\n",
        "\n",
        "clf_mean_score = []\n",
        "clf_std_score = [] # in case the std is too large\n",
        "\n",
        "for n in n_estimators_range:\n",
        "  clf = AdaBoostClassifier(n_estimators=n)\n",
        "  score = cross_val_score(clf, X_train, y_train_back, cv=5, scoring='accuracy')\n",
        "  mean, std = np.mean(score), np.std(score)\n",
        "  clf_mean_score.append(mean)\n",
        "  clf_std_score.append(std)"
      ],
      "metadata": {
        "id": "BUcdEJGThlM2"
      },
      "execution_count": null,
      "outputs": []
    },
    {
      "cell_type": "code",
      "source": [
        "n_estimators_range[np.argmax(clf_mean_score)]"
      ],
      "metadata": {
        "colab": {
          "base_uri": "https://localhost:8080/"
        },
        "id": "UCtB0_yPkxux",
        "outputId": "3c39264a-1567-4a57-8c57-455388e597ed"
      },
      "execution_count": null,
      "outputs": [
        {
          "output_type": "execute_result",
          "data": {
            "text/plain": [
              "20"
            ]
          },
          "metadata": {},
          "execution_count": 46
        }
      ]
    },
    {
      "cell_type": "code",
      "source": [
        "best_n_estimators = n_estimators_range[np.argmax(clf_mean_score)]\n",
        "score_of_best = clf_mean_score[np.argmax(clf_mean_score)]\n",
        "std_of_best = clf_std_score[np.argmax(clf_mean_score)]\n",
        "print(f\"Best number of trees (n_estimators): {best_n_estimators} with the mean score of {score_of_best} and std of: {std_of_best}\")"
      ],
      "metadata": {
        "colab": {
          "base_uri": "https://localhost:8080/"
        },
        "id": "cnK7n7a5j0Ki",
        "outputId": "32cc7032-e525-4a0d-da5c-30d2147da2f5"
      },
      "execution_count": null,
      "outputs": [
        {
          "output_type": "stream",
          "name": "stdout",
          "text": [
            "Best number of trees (n_estimators): 20 with the mean score of 0.36607142857142855 and std of: 0.14951025492096057\n"
          ]
        }
      ]
    },
    {
      "cell_type": "code",
      "source": [
        "# plot the mean and std\n",
        "plt.figure(figsize=(10,5))\n",
        "plt.errorbar(n_estimators_range, clf_mean_score, yerr=clf_std_score, fmt='-o',\n",
        "             color='black', capsize=5, label='Mean CV Score with Std Dev')\n",
        "plt.xlabel(\"Number of Estimators\")\n",
        "plt.ylabel(\"Cross-Validation Score with Std\")\n",
        "plt.legend()\n",
        "plt.title(\"AdaBoost: Mean CV Scores with Standard Deviation vs Number of Estimators\")\n",
        "plt.show()"
      ],
      "metadata": {
        "colab": {
          "base_uri": "https://localhost:8080/",
          "height": 487
        },
        "id": "Knzb4HYpj7BR",
        "outputId": "7e668108-13b3-462f-e8ed-b62691437cdc"
      },
      "execution_count": null,
      "outputs": [
        {
          "output_type": "display_data",
          "data": {
            "text/plain": [
              "<Figure size 1000x500 with 1 Axes>"
            ],
            "image/png": "[encoded data removed]"
          },
          "metadata": {}
        }
      ]
    },
    {
      "cell_type": "code",
      "source": [
        "# obtain accuracy of test set using training rfc\n",
        "clf = DecisionTreeClassifier(max_depth=best_depth) \n",
        "clf.fit(X_train, y_train_back)\n",
        "pred_test = clf.predict(X_test)\n",
        "accuracy = accuracy_score(pred_test, y_test_back)\n",
        "print(\"accuracy is \", accuracy)\n",
        "print(classification_report(pred_test, y_test_back))"
      ],
      "metadata": {
        "colab": {
          "base_uri": "https://localhost:8080/"
        },
        "id": "cyD27bJ2n-um",
        "outputId": "c0cf7360-23dc-456f-9ef8-1c6e9b525bf0"
      },
      "execution_count": null,
      "outputs": [
        {
          "output_type": "stream",
          "name": "stdout",
          "text": [
            "accuracy is  0.7\n",
            "              precision    recall  f1-score   support\n",
            "\n",
            "           0       0.60      0.69      0.64        26\n",
            "           1       0.86      0.77      0.81        56\n",
            "           2       0.67      0.80      0.73         5\n",
            "           3       0.90      0.56      0.69        16\n",
            "           4       0.87      0.93      0.90        14\n",
            "           5       0.50      0.50      0.50        14\n",
            "           6       0.00      0.00      0.00         1\n",
            "           7       0.33      0.50      0.40         6\n",
            "           8       0.00      0.00      0.00         0\n",
            "           9       0.33      0.50      0.40         2\n",
            "\n",
            "    accuracy                           0.70       140\n",
            "   macro avg       0.51      0.53      0.51       140\n",
            "weighted avg       0.74      0.70      0.71       140\n",
            "\n"
          ]
        },
        {
          "output_type": "stream",
          "name": "stderr",
          "text": [
            "/usr/local/lib/python3.10/dist-packages/sklearn/metrics/_classification.py:1344: UndefinedMetricWarning: Recall and F-score are ill-defined and being set to 0.0 in labels with no true samples. Use `zero_division` parameter to control this behavior.\n",
            "  _warn_prf(average, modifier, msg_start, len(result))\n",
            "/usr/local/lib/python3.10/dist-packages/sklearn/metrics/_classification.py:1344: UndefinedMetricWarning: Recall and F-score are ill-defined and being set to 0.0 in labels with no true samples. Use `zero_division` parameter to control this behavior.\n",
            "  _warn_prf(average, modifier, msg_start, len(result))\n",
            "/usr/local/lib/python3.10/dist-packages/sklearn/metrics/_classification.py:1344: UndefinedMetricWarning: Recall and F-score are ill-defined and being set to 0.0 in labels with no true samples. Use `zero_division` parameter to control this behavior.\n",
            "  _warn_prf(average, modifier, msg_start, len(result))\n"
          ]
        }
      ]
    },
    {
      "cell_type": "code",
      "source": [
        "base_classifier = DecisionTreeClassifier(max_depth=5)\n",
        "ada_clf = AdaBoostClassifier(base_estimator=base_classifier)\n",
        "\n",
        "param_grid = {\n",
        "    'n_estimators': [50, 100, 150],\n",
        "    'learning_rate': [0.005, 0.01, 0.1],\n",
        "    'algorithm': ['SAMME', 'SAMME.R']\n",
        "}\n",
        "\n",
        "grid_search_ada = GridSearchCV(ada_clf, param_grid, cv=5, scoring='accuracy', n_jobs=-1)"
      ],
      "metadata": {
        "id": "CE8zMhMdldFs"
      },
      "execution_count": null,
      "outputs": []
    },
    {
      "cell_type": "code",
      "source": [
        "grid_search_ada.fit(X_train, y_train_back)\n",
        "best_ada_params = grid_search_ada.best_params_\n",
        "print(f\"Best hyperparameters: {best_ada_params}\")\n",
        "best_ada_clf = grid_search_ada.best_estimator_"
      ],
      "metadata": {
        "colab": {
          "base_uri": "https://localhost:8080/"
        },
        "id": "DgMV6Xi7q5sU",
        "outputId": "242eda78-e000-4d2f-b904-41dbb262842a"
      },
      "execution_count": null,
      "outputs": [
        {
          "output_type": "stream",
          "name": "stderr",
          "text": [
            "/usr/local/lib/python3.10/dist-packages/sklearn/ensemble/_base.py:166: FutureWarning: `base_estimator` was renamed to `estimator` in version 1.2 and will be removed in 1.4.\n",
            "  warnings.warn(\n"
          ]
        },
        {
          "output_type": "stream",
          "name": "stdout",
          "text": [
            "Best hyperparameters: {'algorithm': 'SAMME', 'learning_rate': 0.1, 'n_estimators': 100}\n"
          ]
        }
      ]
    },
    {
      "cell_type": "code",
      "source": [
        "# obtain accuracy of test set using training dt\n",
        "best_ada_clf.fit(X_train, y_train_back)\n",
        "pred_test = best_ada_clf.predict(X_test)\n",
        "accuracy = accuracy_score(pred_test, y_test_back)\\\n",
        "\n",
        "print(\"accuracy of AdaBoost classifier is \", accuracy)\n",
        "print(classification_report(pred_test, y_test_back))"
      ],
      "metadata": {
        "colab": {
          "base_uri": "https://localhost:8080/"
        },
        "id": "LvuBUCV3nBdN",
        "outputId": "6e8deba5-363c-4ac6-f360-699a3f5175e2"
      },
      "execution_count": null,
      "outputs": [
        {
          "output_type": "stream",
          "name": "stderr",
          "text": [
            "/usr/local/lib/python3.10/dist-packages/sklearn/ensemble/_base.py:166: FutureWarning: `base_estimator` was renamed to `estimator` in version 1.2 and will be removed in 1.4.\n",
            "  warnings.warn(\n"
          ]
        },
        {
          "output_type": "stream",
          "name": "stdout",
          "text": [
            "accuracy of AdaBoost classifier is  0.7857142857142857\n",
            "              precision    recall  f1-score   support\n",
            "\n",
            "           0       0.87      0.76      0.81        34\n",
            "           1       0.86      0.88      0.87        49\n",
            "           2       0.67      0.80      0.73         5\n",
            "           3       1.00      0.50      0.67        20\n",
            "           4       0.93      1.00      0.97        14\n",
            "           5       0.50      0.58      0.54        12\n",
            "           6       0.00      0.00      0.00         0\n",
            "           7       0.44      1.00      0.62         4\n",
            "           8       0.00      0.00      0.00         0\n",
            "           9       0.67      1.00      0.80         2\n",
            "\n",
            "    accuracy                           0.79       140\n",
            "   macro avg       0.59      0.65      0.60       140\n",
            "weighted avg       0.84      0.79      0.79       140\n",
            "\n"
          ]
        },
        {
          "output_type": "stream",
          "name": "stderr",
          "text": [
            "/usr/local/lib/python3.10/dist-packages/sklearn/metrics/_classification.py:1344: UndefinedMetricWarning: Recall and F-score are ill-defined and being set to 0.0 in labels with no true samples. Use `zero_division` parameter to control this behavior.\n",
            "  _warn_prf(average, modifier, msg_start, len(result))\n",
            "/usr/local/lib/python3.10/dist-packages/sklearn/metrics/_classification.py:1344: UndefinedMetricWarning: Recall and F-score are ill-defined and being set to 0.0 in labels with no true samples. Use `zero_division` parameter to control this behavior.\n",
            "  _warn_prf(average, modifier, msg_start, len(result))\n",
            "/usr/local/lib/python3.10/dist-packages/sklearn/metrics/_classification.py:1344: UndefinedMetricWarning: Recall and F-score are ill-defined and being set to 0.0 in labels with no true samples. Use `zero_division` parameter to control this behavior.\n",
            "  _warn_prf(average, modifier, msg_start, len(result))\n"
          ]
        }
      ]
    },
    {
      "cell_type": "markdown",
      "source": [
        "## Support Vector Machine (SVM) classifier"
      ],
      "metadata": {
        "id": "lBDV7iqP3qgb"
      }
    },
    {
      "cell_type": "code",
      "source": [
        "from sklearn.preprocessing import StandardScaler\n",
        "from sklearn.svm import SVC\n",
        "scaler = StandardScaler()\n",
        "X_train = scaler.fit_transform(X_train)\n",
        "X_test = scaler.transform(X_test)\n",
        "\n",
        "svc = SVC()\n",
        "\n",
        "param_grid = {\n",
        "    'C': [0.1, 1, 10, 100],\n",
        "    'kernel': ['linear', 'rbf'],\n",
        "    'gamma': ['scale', 'auto',1, 0.1, 0.01, 0.001]\n",
        "}\n",
        "\n",
        "grid_search_svc = GridSearchCV(svc, param_grid, cv=5, scoring='accuracy', n_jobs=-1)\n",
        "grid_search_svc.fit(X_train, y_train_back)\n",
        "\n",
        "best_svc_params = grid_search_svc.best_params_\n",
        "print(f\"Best hyperparameters: {best_svc_params}\")\n",
        "best_svc = grid_search_svc.best_estimator_\n"
      ],
      "metadata": {
        "colab": {
          "base_uri": "https://localhost:8080/"
        },
        "id": "tMYQ-Tm_32_E",
        "outputId": "5331f137-b970-4dba-a298-551084ab2df2"
      },
      "execution_count": null,
      "outputs": [
        {
          "output_type": "stream",
          "name": "stdout",
          "text": [
            "Best hyperparameters: {'C': 10, 'gamma': 0.001, 'kernel': 'rbf'}\n"
          ]
        }
      ]
    },
    {
      "cell_type": "code",
      "source": [
        "# obtain accuracy of test set using training dt\n",
        "best_svc.fit(X_train, y_train_back)\n",
        "pred_test = best_svc.predict(X_test)\n",
        "accuracy = accuracy_score(pred_test, y_test_back)\n",
        "print(\"accuracy of decision tree classifier is \", accuracy)\n",
        "print(classification_report(pred_test, y_test_back))"
      ],
      "metadata": {
        "colab": {
          "base_uri": "https://localhost:8080/"
        },
        "id": "nvBRz0ihBCfr",
        "outputId": "43dc123e-b2e2-46b8-b4fa-f4a96e4b9907"
      },
      "execution_count": null,
      "outputs": [
        {
          "output_type": "stream",
          "name": "stdout",
          "text": [
            "accuracy of decision tree classifier is  0.8428571428571429\n",
            "              precision    recall  f1-score   support\n",
            "\n",
            "           0       0.90      0.79      0.84        34\n",
            "           1       0.90      0.92      0.91        49\n",
            "           2       0.83      1.00      0.91         5\n",
            "           3       1.00      0.56      0.71        18\n",
            "           4       0.87      1.00      0.93        13\n",
            "           5       0.64      0.75      0.69        12\n",
            "           6       0.00      0.00      0.00         0\n",
            "           7       0.78      1.00      0.88         7\n",
            "           8       0.00      0.00      0.00         0\n",
            "           9       0.67      1.00      0.80         2\n",
            "\n",
            "    accuracy                           0.84       140\n",
            "   macro avg       0.66      0.70      0.67       140\n",
            "weighted avg       0.88      0.84      0.85       140\n",
            "\n"
          ]
        },
        {
          "output_type": "stream",
          "name": "stderr",
          "text": [
            "/usr/local/lib/python3.10/dist-packages/sklearn/metrics/_classification.py:1344: UndefinedMetricWarning: Recall and F-score are ill-defined and being set to 0.0 in labels with no true samples. Use `zero_division` parameter to control this behavior.\n",
            "  _warn_prf(average, modifier, msg_start, len(result))\n",
            "/usr/local/lib/python3.10/dist-packages/sklearn/metrics/_classification.py:1344: UndefinedMetricWarning: Recall and F-score are ill-defined and being set to 0.0 in labels with no true samples. Use `zero_division` parameter to control this behavior.\n",
            "  _warn_prf(average, modifier, msg_start, len(result))\n",
            "/usr/local/lib/python3.10/dist-packages/sklearn/metrics/_classification.py:1344: UndefinedMetricWarning: Recall and F-score are ill-defined and being set to 0.0 in labels with no true samples. Use `zero_division` parameter to control this behavior.\n",
            "  _warn_prf(average, modifier, msg_start, len(result))\n"
          ]
        }
      ]
    },
    {
      "cell_type": "markdown",
      "source": [
        "## FFNN"
      ],
      "metadata": {
        "id": "aSjZh7PWnjEw"
      }
    },
    {
      "cell_type": "code",
      "source": [
        "import torch\n",
        "import torch.nn as nn\n",
        "import torch.nn.functional as F\n",
        "\n",
        "import pandas as pd\n",
        "import numpy as np\n",
        "\n",
        "from copy import deepcopy"
      ],
      "metadata": {
        "id": "iewO4LmQudWY"
      },
      "execution_count": null,
      "outputs": []
    },
    {
      "cell_type": "code",
      "source": [
        "X_train_t, y_train_back_t = torch.tensor(X_train).type(torch.float32), torch.tensor(y_train_back).type(torch.long)\n",
        "X_test_t, y_test_back_t = torch.tensor(X_test).type(torch.float32), torch.tensor(y_test_back).type(torch.long)"
      ],
      "metadata": {
        "id": "xdHdDG3CBsOE"
      },
      "execution_count": null,
      "outputs": []
    },
    {
      "cell_type": "code",
      "source": [
        "class My_Network(nn.Module):\n",
        "    def __init__(self, num_layers, hidden_size):\n",
        "        super().__init__()\n",
        "        input_dim = 765\n",
        "        output_dim = 10\n",
        "        drop_rate = 0.5\n",
        "        #mid_dim = int(hidden_size * drop_rate)\n",
        "\n",
        "        self.num_layers = num_layers\n",
        "        self.hidden_size = hidden_size\n",
        "        self.input_layer = nn.Linear(input_dim, hidden_size)\n",
        "        \n",
        "        self.hidden_layer_list = nn.ModuleList() #generate a list of hidden layer with different weight and bias\n",
        "        self.batch_norm_list = nn.ModuleList()\n",
        "        for i in range(num_layers):\n",
        "          self.hidden_layer_list.append(nn.Linear(hidden_size, hidden_size))\n",
        "          self.batch_norm_list.append(nn.BatchNorm1d(hidden_size))\n",
        "        self.batch_norm = nn.BatchNorm1d(hidden_size) #Lu: remember dropout layer don't change the shape of hidden layer\n",
        "        self.drop_layer = nn.Dropout(drop_rate) # 50% probability \n",
        "       \n",
        "        #self.hidden_layer_mid = nn.Linear(mid_dim, hidden_size)\n",
        "        self.output_layer = nn.Linear(hidden_size, output_dim)\n",
        "    \n",
        "    def forward(self, X):\n",
        "        X = self.input_layer(X)\n",
        "        \n",
        "        X = self.batch_norm(X)\n",
        "        X = F.relu(X)\n",
        "        for hidden_layer, batch_norm in zip(self.hidden_layer_list, self.batch_norm_list):\n",
        "          \n",
        "          X = hidden_layer(X)\n",
        "          \n",
        "          X = batch_norm(X)\n",
        "          X = F.relu(X)\n",
        "          X = self.drop_layer(X)\n",
        "        logits = self.output_layer(X) \n",
        "        return logits\n",
        "    def classify(self, X):\n",
        "        X = torch.clone(X).type(torch.float32)\n",
        "        logits = self.forward(X) # calculate theta after NN forward (define by my self)\n",
        "        soft_prob = F.softmax(logits, dim=1)\n",
        "        labels = torch.argmax(soft_prob, dim=1)\n",
        "        return labels"
      ],
      "metadata": {
        "id": "fpz4CtIszXC5"
      },
      "execution_count": null,
      "outputs": []
    },
    {
      "cell_type": "code",
      "source": [
        "def train(model, X_train, y_train, X_val, y_val, epochs=15, batch_size=32, lr=1e-3):\n",
        "    \n",
        "    best_acc = -1\n",
        "    best_model = None\n",
        "    batches = len(X_train)//batch_size   # using batch_size, determine the number of batches needed\n",
        "\n",
        "    loss_fn = nn.CrossEntropyLoss()                             # read the write-up for an explanation on CrossEntropyLoss()\n",
        "    # nn.module.parameter(): w and b\n",
        "    optimizer = torch.optim.Adam(model.parameters(), lr=lr)     # read the write-up for an explanation on Adam\n",
        "\n",
        "    losses = []\n",
        "    train_accs = []\n",
        "    accuracies = []\n",
        "\n",
        "    for epoch in range(epochs):\n",
        "        for i in range(batches):\n",
        "            X_batch = X_train[i*batch_size : (i+1)*batch_size]\n",
        "            y_batch = y_train[i*batch_size : (i+1)*batch_size]\n",
        "            \n",
        "            logits = model.forward(X_batch)\n",
        "            \n",
        "            #prob_soft = F.softmax(logits, dim=1)\n",
        "            loss = loss_fn(logits, y_batch)\n",
        "\n",
        "            optimizer.zero_grad()   # erases the gradients from the previous epoch (sets all gradients to 0)\n",
        "            loss.backward()         # calculates the gradients with respect to every single weight matrix in the model\n",
        "            optimizer.step()        # takes ONE learning step with the gradients just calculated\n",
        "\n",
        "        train_label = model.classify(X_train) #Lu: obtain updated theta from backward. don't put this step before loss.backward\n",
        "        cur_train_accu = sklearn.metrics.accuracy_score(y_train, train_label)\n",
        "\n",
        "        val_label = model.classify(X_val)\n",
        "        accuracy = sklearn.metrics.accuracy_score(y_val, val_label)\n",
        "\n",
        "        losses.append(loss)  #append loss\n",
        "        train_accs.append(cur_train_accu)\n",
        "        accuracies.append(accuracy)\n",
        "\n",
        "        if accuracy > best_acc:     # implement the fall-back technique mentioned in the description\n",
        "            best_acc = accuracy\n",
        "            #deepcopy: has a new address for the copy of this datapoint \n",
        "            best_model = deepcopy(model)\n",
        "        if accuracy < best_acc - 0.05:\n",
        "            print(\"stopping early!\")\n",
        "            break\n",
        "\n",
        "        print(f\"Epoch {epoch + 1}:\\tloss {np.round(loss.detach().cpu().numpy().item(), 4)}\\t& accuracy {np.round(accuracy, 4)}\")\n",
        "    print(f\"Resetting model... Best validation accuracy:\\t{np.round(best_acc, 4)}\")\n",
        "    model.load_state_dict(best_model.state_dict())\n",
        "    return losses, accuracies, train_accs"
      ],
      "metadata": {
        "id": "eEc8f0Gl1jXL"
      },
      "execution_count": null,
      "outputs": []
    },
    {
      "cell_type": "code",
      "source": [
        "my_model = My_Network(2, 256)\n",
        "losses, accuracies, train_accs = train(my_model, X_train_t, y_train_back_t, X_test_t, y_test_back_t, epochs=29)"
      ],
      "metadata": {
        "colab": {
          "base_uri": "https://localhost:8080/"
        },
        "id": "VaFPdT8m3Qp0",
        "outputId": "70d257fb-8ab7-4963-c8d1-d2f42420e9f5"
      },
      "execution_count": null,
      "outputs": [
        {
          "output_type": "stream",
          "name": "stdout",
          "text": [
            "Epoch 1:\tloss 1.31\t& accuracy 0.6286\n",
            "Epoch 2:\tloss 0.6542\t& accuracy 0.7429\n",
            "Epoch 3:\tloss 0.4421\t& accuracy 0.8143\n",
            "Epoch 4:\tloss 0.343\t& accuracy 0.7929\n",
            "Epoch 5:\tloss 0.2576\t& accuracy 0.8214\n",
            "Epoch 6:\tloss 0.1757\t& accuracy 0.8357\n",
            "Epoch 7:\tloss 0.1669\t& accuracy 0.8\n",
            "Epoch 8:\tloss 0.1274\t& accuracy 0.7929\n",
            "Epoch 9:\tloss 0.0742\t& accuracy 0.8143\n",
            "Epoch 10:\tloss 0.048\t& accuracy 0.8357\n",
            "Epoch 11:\tloss 0.052\t& accuracy 0.8143\n",
            "Epoch 12:\tloss 0.0376\t& accuracy 0.8357\n",
            "Epoch 13:\tloss 0.0234\t& accuracy 0.8143\n",
            "Epoch 14:\tloss 0.0354\t& accuracy 0.8071\n",
            "Epoch 15:\tloss 0.0139\t& accuracy 0.8357\n",
            "Epoch 16:\tloss 0.0108\t& accuracy 0.8286\n",
            "Epoch 17:\tloss 0.0079\t& accuracy 0.8357\n",
            "Epoch 18:\tloss 0.0121\t& accuracy 0.8214\n",
            "Epoch 19:\tloss 0.0159\t& accuracy 0.8286\n",
            "Epoch 20:\tloss 0.0062\t& accuracy 0.8357\n",
            "Epoch 21:\tloss 0.0091\t& accuracy 0.8714\n",
            "stopping early!\n",
            "Resetting model... Best validation accuracy:\t0.8714\n"
          ]
        }
      ]
    },
    {
      "cell_type": "code",
      "source": [
        "from numpy.core.function_base import linspace\n",
        "import math\n",
        "def graph(accuracies, training_accs):\n",
        "    epoch = range(1, len(accuracies)+1)\n",
        "    plt.plot(epoch, accuracies, label = 'validation accuracy')\n",
        "    plt.plot(epoch, training_accs, label = 'training accuracy')\n",
        "    plt.legend()\n",
        "    plt.axhline(y = 0.84, color='r')\n",
        "    #new_list = range(math.floor(min(epoch)), math.ceil(max(epoch))+1)\n",
        "    #plt.xticks(new_list)\n",
        "\n",
        "    plt.xlabel('Epoch')\n",
        "    plt.ylabel('Accuracy score')\n",
        "    plt.title('Training vs. Validation accuracies generated from NN')"
      ],
      "metadata": {
        "id": "4QY1wePpC32v"
      },
      "execution_count": null,
      "outputs": []
    },
    {
      "cell_type": "code",
      "source": [
        "graph(accuracies, train_accs)"
      ],
      "metadata": {
        "colab": {
          "base_uri": "https://localhost:8080/",
          "height": 472
        },
        "id": "Chq_xY2fC-tF",
        "outputId": "d54d3611-167b-407a-d577-04090b5f918d"
      },
      "execution_count": null,
      "outputs": [
        {
          "output_type": "display_data",
          "data": {
            "text/plain": [
              "<Figure size 640x480 with 1 Axes>"
            ],
            "image/png": "[encoded data removed]"
          },
          "metadata": {}
        }
      ]
    },
    {
      "cell_type": "markdown",
      "source": [
        "## Latent Space"
      ],
      "metadata": {
        "id": "zXHCtMLWWOpQ"
      }
    },
    {
      "cell_type": "markdown",
      "source": [
        "### nn.Module"
      ],
      "metadata": {
        "id": "ARScv_xiW6zV"
      }
    },
    {
      "cell_type": "code",
      "source": [
        "import pandas as pd\n",
        "import numpy as np\n",
        "import torch\n",
        "import torch.nn as nn\n",
        "from random import sample\n",
        "from sklearn.model_selection import train_test_split\n",
        "import torch.optim as optim\n",
        "\n",
        "from torch.utils.data import DataLoader"
      ],
      "metadata": {
        "id": "ow3wXtK1XWGG"
      },
      "execution_count": null,
      "outputs": []
    },
    {
      "cell_type": "code",
      "source": [
        "# build the autoencoder model\n",
        "\n",
        "# 765 is the feature of X data (both train and test)\n",
        "input_shape = (765, )\n",
        "# define the feature number of latent space\n",
        "latent_dim = 48\n",
        "dropout_rate = 0.2\n",
        "\n",
        "# construct autoencoder with L1 regularization\n",
        "class autoencoderl1(nn.Module):\n",
        "    def __init__(self):\n",
        "        super(autoencoderl1, self).__init__()\n",
        "        \n",
        "    #Encoder NN\n",
        "        self.encoder = nn.Sequential(\n",
        "            nn.Linear(input_shape[0], 512),\n",
        "            nn.BatchNorm1d(512),\n",
        "            nn.ReLU(True),\n",
        "            nn.Dropout(dropout_rate),\n",
        "            nn.Linear(512, 256),\n",
        "            nn.BatchNorm1d(256),\n",
        "            nn.ReLU(True),\n",
        "            nn.Dropout(dropout_rate),\n",
        "            nn.Linear(256, 128),\n",
        "            nn.BatchNorm1d(128),\n",
        "            nn.ReLU(True),\n",
        "            nn.Dropout(dropout_rate),\n",
        "            nn.Linear(128, 64),\n",
        "            nn.BatchNorm1d(64),\n",
        "            nn.ReLU(True),\n",
        "            nn.Dropout(dropout_rate),\n",
        "            nn.Linear(64, latent_dim),\n",
        "        )\n",
        "    \n",
        "    #Decoder NN\n",
        "        self.decoder = nn.Sequential(\n",
        "            nn.Linear(latent_dim, 64),\n",
        "            nn.BatchNorm1d(64),\n",
        "            nn.ReLU(True),\n",
        "            nn.Dropout(dropout_rate),\n",
        "            nn.Linear(64, 128),\n",
        "            nn.BatchNorm1d(128),\n",
        "            nn.ReLU(True),\n",
        "            nn.Dropout(dropout_rate),\n",
        "            nn.Linear(128, 256),\n",
        "            nn.BatchNorm1d(256),\n",
        "            nn.ReLU(True),\n",
        "            nn.Linear(256, 512),\n",
        "            nn.Dropout(dropout_rate),\n",
        "            nn.BatchNorm1d(512),\n",
        "            nn.ReLU(True),\n",
        "            nn.Linear(512, input_shape[0]),\n",
        "            nn.Sigmoid()\n",
        "        )\n",
        "    \n",
        "    #L1 regularization\n",
        "        self.reg = nn.L1Loss(reduction='sum')\n",
        "    \n",
        "    def forward(self, X):\n",
        "        #X = torch.from_numpy(X)\n",
        "        X = torch.clone(X)\n",
        "        #X = X.float()\n",
        "        X = self.encoder(X)\n",
        "        X = self.decoder(X)\n",
        "        return X"
      ],
      "metadata": {
        "id": "2qIzfBVhWOID"
      },
      "execution_count": null,
      "outputs": []
    },
    {
      "cell_type": "code",
      "source": [
        "from sklearn.metrics import accuracy_score\n",
        "from copy import deepcopy\n",
        "\n",
        "# define train model\n",
        "def train(model, X_train, X_test, batch_size=16, epochs = 15, lr=1e-4, l1_lambda = 1e-7):\n",
        "    \n",
        "    train_loader = DataLoader(X_train, batch_size=batch_size, shuffle=False)\n",
        "    #testing_loader = DataLoader(X_test, batch_size=batch_size, shuffle=False)\n",
        "    best_mse = 100\n",
        "    best_model = None\n",
        "    \n",
        "    loss_mse = nn.MSELoss()\n",
        "    optimizer = optim.Adam(model.parameters(), lr=lr)\n",
        "    \n",
        "    train_losses = []\n",
        "    test_losses = []\n",
        "    #accuracies = []\n",
        "    \n",
        "    for epoch in range(epochs):\n",
        "        #X_train only has X but not y and loaded in train_loader\n",
        "        loss = 0\n",
        "        l1_loss = 0\n",
        "        for data in iter(train_loader):\n",
        "            data = data.float()\n",
        "            \n",
        "            logits = model.forward(data)\n",
        "            #print(logits.dtype)\n",
        "            loss = loss_mse(logits, data)\n",
        "\n",
        "            # this is for L1 regulate hyperparameters\n",
        "            # for param in model.parameters():\n",
        "            #     param.data = param.data.float()\n",
        "\n",
        "            #     #l1_reg += torch.norm(param, 1)  # In PyTorch, torch.norm(param, 2) computes the L2-norm of the tensor param.\n",
        "            \n",
        "            #This is for L1 regulate latent space\n",
        "            l1_regularization = l1_lambda * torch.mean(torch.abs(logits)) \n",
        "            l1_loss += l1_regularization\n",
        "            loss += l1_regularization\n",
        "            \n",
        "            loss = loss.float()\n",
        "\n",
        "            optimizer.zero_grad()\n",
        "            loss.backward()\n",
        "            optimizer.step()\n",
        "        #calcualte train loss after optimization\n",
        "        # train_loss = loss\n",
        "        # train_losses.append(float(train_loss))\n",
        "        # l1_loss = loss/len(train_loader)\n",
        "\n",
        "        X_train = torch.tensor(X_train).float()\n",
        "        train_label = model.forward(X_train)\n",
        "        train_loss = loss_mse(train_label, X_train)\n",
        "        # l1_reg = 0\n",
        "        # for param in model.parameters():\n",
        "        #     param.data = param.data.float()\n",
        "        #     l1_reg += torch.norm(param, 1)  # In PyTorch, torch.norm(param, 2) computes the L2-norm of the tensor param\n",
        "        # train_loss += l1_lambda * l1_reg\n",
        "        train_losses.append(train_loss.detach().numpy())\n",
        "        \n",
        "        #calcualte test loss\n",
        "        X_test = torch.tensor(X_test).float()\n",
        "\n",
        "        #print(X_test)\n",
        "        testing_latent = model.forward(X_test)\n",
        "        #print(testing_label, y_test)\n",
        "        test_loss = loss_mse(testing_latent, X_test)\n",
        "        # l1_loss_test = l1_lambda*torch.mean(torch.abs(testing_latent)) \n",
        "        # test_loss += l1_loss_test\n",
        "        test_losses.append(test_loss.detach().numpy())\n",
        "\n",
        "        if test_loss < best_mse:\n",
        "            best_mse = test_loss\n",
        "            best_model = deepcopy(model)\n",
        "        if test_loss > best_mse+0.1:\n",
        "            print(\"stop early!\")\n",
        "            break\n",
        "        \n",
        "        print(f\"Epoch {epoch + 1}:\\ttrain loss {train_loss}\")\n",
        "        print(\"train loss from l1:\", l1_loss)\n",
        "        print(f\"Epoch {epoch + 1}:\\ttest loss {test_loss}\")\n",
        "       \n",
        "    print(f\"Resetting model... Smallest test loss:\\t{best_mse}\")\n",
        "    model.load_state_dict(best_model.state_dict())\n",
        "    torch.save({'model_state_dict_0420': best_model.state_dict(),\n",
        "                'optimizer_state_dict_0420': optimizer.state_dict()},\n",
        "                'autoencoder_model_0420.pth')\n",
        "    return train_losses, test_losses\n",
        "            "
      ],
      "metadata": {
        "id": "B6vo0yw8W_V-"
      },
      "execution_count": null,
      "outputs": []
    },
    {
      "cell_type": "code",
      "source": [
        "model = autoencoderl1()\n",
        "train_losses, test_losses = train(model, X_train, X_test, lr=1e-4, l1_lambda = 1e-4, batch_size=16, epochs=30)"
      ],
      "metadata": {
        "colab": {
          "base_uri": "https://localhost:8080/"
        },
        "id": "ee96fWH5XOHM",
        "outputId": "03fa7eb7-f327-4957-90d7-6322ff440de1"
      },
      "execution_count": null,
      "outputs": [
        {
          "output_type": "stream",
          "name": "stdout",
          "text": [
            "Epoch 1:\ttrain loss 1.1631591320037842\n",
            "train loss from l1: tensor(0.0015, grad_fn=<AddBackward0>)\n",
            "Epoch 1:\ttest loss 1.1459782123565674\n"
          ]
        },
        {
          "output_type": "stream",
          "name": "stderr",
          "text": [
            "<ipython-input-10-404dd392b6a4>:51: UserWarning: To copy construct from a tensor, it is recommended to use sourceTensor.clone().detach() or sourceTensor.clone().detach().requires_grad_(True), rather than torch.tensor(sourceTensor).\n",
            "  X_train = torch.tensor(X_train).float()\n",
            "<ipython-input-10-404dd392b6a4>:62: UserWarning: To copy construct from a tensor, it is recommended to use sourceTensor.clone().detach() or sourceTensor.clone().detach().requires_grad_(True), rather than torch.tensor(sourceTensor).\n",
            "  X_test = torch.tensor(X_test).float()\n"
          ]
        },
        {
          "output_type": "stream",
          "name": "stdout",
          "text": [
            "Epoch 2:\ttrain loss 1.100735068321228\n",
            "train loss from l1: tensor(0.0012, grad_fn=<AddBackward0>)\n",
            "Epoch 2:\ttest loss 1.085760235786438\n",
            "Epoch 3:\ttrain loss 1.0643134117126465\n",
            "train loss from l1: tensor(0.0009, grad_fn=<AddBackward0>)\n",
            "Epoch 3:\ttest loss 1.0504032373428345\n",
            "Epoch 4:\ttrain loss 1.0453978776931763\n",
            "train loss from l1: tensor(0.0007, grad_fn=<AddBackward0>)\n",
            "Epoch 4:\ttest loss 1.0344843864440918\n",
            "Epoch 5:\ttrain loss 1.0335396528244019\n",
            "train loss from l1: tensor(0.0006, grad_fn=<AddBackward0>)\n",
            "Epoch 5:\ttest loss 1.0227010250091553\n",
            "Epoch 6:\ttrain loss 1.0263851881027222\n",
            "train loss from l1: tensor(0.0005, grad_fn=<AddBackward0>)\n",
            "Epoch 6:\ttest loss 1.0158979892730713\n",
            "Epoch 7:\ttrain loss 1.02149498462677\n",
            "train loss from l1: tensor(0.0004, grad_fn=<AddBackward0>)\n",
            "Epoch 7:\ttest loss 1.0118730068206787\n",
            "Epoch 8:\ttrain loss 1.0176944732666016\n",
            "train loss from l1: tensor(0.0004, grad_fn=<AddBackward0>)\n",
            "Epoch 8:\ttest loss 1.0080724954605103\n",
            "Epoch 9:\ttrain loss 1.0150587558746338\n",
            "train loss from l1: tensor(0.0003, grad_fn=<AddBackward0>)\n",
            "Epoch 9:\ttest loss 1.005823016166687\n",
            "Epoch 10:\ttrain loss 1.0128647089004517\n",
            "train loss from l1: tensor(0.0003, grad_fn=<AddBackward0>)\n",
            "Epoch 10:\ttest loss 1.0044989585876465\n",
            "Epoch 11:\ttrain loss 1.0113024711608887\n",
            "train loss from l1: tensor(0.0003, grad_fn=<AddBackward0>)\n",
            "Epoch 11:\ttest loss 1.0025784969329834\n",
            "Epoch 12:\ttrain loss 1.010025978088379\n",
            "train loss from l1: tensor(0.0003, grad_fn=<AddBackward0>)\n",
            "Epoch 12:\ttest loss 1.0007976293563843\n",
            "Epoch 13:\ttrain loss 1.0087398290634155\n",
            "train loss from l1: tensor(0.0003, grad_fn=<AddBackward0>)\n",
            "Epoch 13:\ttest loss 0.9993343949317932\n",
            "Epoch 14:\ttrain loss 1.0075936317443848\n",
            "train loss from l1: tensor(0.0002, grad_fn=<AddBackward0>)\n",
            "Epoch 14:\ttest loss 0.9989091753959656\n",
            "Epoch 15:\ttrain loss 1.0061153173446655\n",
            "train loss from l1: tensor(0.0002, grad_fn=<AddBackward0>)\n",
            "Epoch 15:\ttest loss 0.9976885914802551\n",
            "Epoch 16:\ttrain loss 1.0046051740646362\n",
            "train loss from l1: tensor(0.0002, grad_fn=<AddBackward0>)\n",
            "Epoch 16:\ttest loss 0.9960946440696716\n",
            "Epoch 17:\ttrain loss 1.0027931928634644\n",
            "train loss from l1: tensor(0.0002, grad_fn=<AddBackward0>)\n",
            "Epoch 17:\ttest loss 0.995790958404541\n",
            "Epoch 18:\ttrain loss 1.0013359785079956\n",
            "train loss from l1: tensor(0.0002, grad_fn=<AddBackward0>)\n",
            "Epoch 18:\ttest loss 0.993567168712616\n",
            "Epoch 19:\ttrain loss 0.9989176988601685\n",
            "train loss from l1: tensor(0.0002, grad_fn=<AddBackward0>)\n",
            "Epoch 19:\ttest loss 0.9912655353546143\n",
            "Epoch 20:\ttrain loss 0.9963107109069824\n",
            "train loss from l1: tensor(0.0002, grad_fn=<AddBackward0>)\n",
            "Epoch 20:\ttest loss 0.9891289472579956\n",
            "Epoch 21:\ttrain loss 0.9926835298538208\n",
            "train loss from l1: tensor(0.0002, grad_fn=<AddBackward0>)\n",
            "Epoch 21:\ttest loss 0.9845633506774902\n",
            "Epoch 22:\ttrain loss 0.9884105324745178\n",
            "train loss from l1: tensor(0.0002, grad_fn=<AddBackward0>)\n",
            "Epoch 22:\ttest loss 0.9823220372200012\n",
            "Epoch 23:\ttrain loss 0.983591616153717\n",
            "train loss from l1: tensor(0.0003, grad_fn=<AddBackward0>)\n",
            "Epoch 23:\ttest loss 0.9774262309074402\n",
            "Epoch 24:\ttrain loss 0.978911280632019\n",
            "train loss from l1: tensor(0.0003, grad_fn=<AddBackward0>)\n",
            "Epoch 24:\ttest loss 0.9707927703857422\n",
            "Epoch 25:\ttrain loss 0.9729478359222412\n",
            "train loss from l1: tensor(0.0003, grad_fn=<AddBackward0>)\n",
            "Epoch 25:\ttest loss 0.9659592509269714\n",
            "Epoch 26:\ttrain loss 0.9676845669746399\n",
            "train loss from l1: tensor(0.0003, grad_fn=<AddBackward0>)\n",
            "Epoch 26:\ttest loss 0.959662139415741\n",
            "Epoch 27:\ttrain loss 0.9628573656082153\n",
            "train loss from l1: tensor(0.0003, grad_fn=<AddBackward0>)\n",
            "Epoch 27:\ttest loss 0.9573419094085693\n",
            "Epoch 28:\ttrain loss 0.9593660235404968\n",
            "train loss from l1: tensor(0.0003, grad_fn=<AddBackward0>)\n",
            "Epoch 28:\ttest loss 0.9527721405029297\n",
            "Epoch 29:\ttrain loss 0.955229640007019\n",
            "train loss from l1: tensor(0.0003, grad_fn=<AddBackward0>)\n",
            "Epoch 29:\ttest loss 0.9486990571022034\n",
            "Epoch 30:\ttrain loss 0.9521629810333252\n",
            "train loss from l1: tensor(0.0003, grad_fn=<AddBackward0>)\n",
            "Epoch 30:\ttest loss 0.946178674697876\n",
            "Resetting model... Smallest test loss:\t0.946178674697876\n"
          ]
        }
      ]
    },
    {
      "cell_type": "code",
      "source": [
        "\n",
        "plt.plot(train_losses, label='train loss')\n",
        "plt.plot(test_losses, label='test loss')\n",
        "plt.xlabel('Epoch', fontsize=14)\n",
        "plt.ylabel('Loss', fontsize=14)\n",
        "plt.title(\"Losses of Autoencoder Model\", fontsize=14)\n",
        "plt.legend();"
      ],
      "metadata": {
        "colab": {
          "base_uri": "https://localhost:8080/",
          "height": 478
        },
        "id": "up8IRX5zXhSD",
        "outputId": "8024fea1-cfec-49b6-90fe-dada67edc826"
      },
      "execution_count": null,
      "outputs": [
        {
          "output_type": "display_data",
          "data": {
            "text/plain": [
              "<Figure size 640x480 with 1 Axes>"
            ],
            "image/png": "[encoded data removed]"
          },
          "metadata": {}
        }
      ]
    },
    {
      "cell_type": "code",
      "source": [
        "# use the same architecture to train all data\n",
        "model_all = autoencoderl1()\n",
        "train_losses_all, test_losses_all = train(model_all, X, X_test, lr=1e-4, l1_lambda = 1e-4, batch_size=16, epochs=30)"
      ],
      "metadata": {
        "colab": {
          "base_uri": "https://localhost:8080/"
        },
        "id": "lxd-gWmUXm-z",
        "outputId": "b7b1bbcc-6925-4e9b-e8b4-8063c8a2ef09"
      },
      "execution_count": null,
      "outputs": [
        {
          "output_type": "stream",
          "name": "stdout",
          "text": [
            "Epoch 1:\ttrain loss 1.1409293413162231\n",
            "train loss from l1: tensor(0.0019, grad_fn=<AddBackward0>)\n",
            "Epoch 1:\ttest loss 1.1279853582382202\n"
          ]
        },
        {
          "output_type": "stream",
          "name": "stderr",
          "text": [
            "<ipython-input-10-404dd392b6a4>:51: UserWarning: To copy construct from a tensor, it is recommended to use sourceTensor.clone().detach() or sourceTensor.clone().detach().requires_grad_(True), rather than torch.tensor(sourceTensor).\n",
            "  X_train = torch.tensor(X_train).float()\n",
            "<ipython-input-10-404dd392b6a4>:62: UserWarning: To copy construct from a tensor, it is recommended to use sourceTensor.clone().detach() or sourceTensor.clone().detach().requires_grad_(True), rather than torch.tensor(sourceTensor).\n",
            "  X_test = torch.tensor(X_test).float()\n"
          ]
        },
        {
          "output_type": "stream",
          "name": "stdout",
          "text": [
            "Epoch 2:\ttrain loss 1.077040433883667\n",
            "train loss from l1: tensor(0.0013, grad_fn=<AddBackward0>)\n",
            "Epoch 2:\ttest loss 1.064601182937622\n",
            "Epoch 3:\ttrain loss 1.0471093654632568\n",
            "train loss from l1: tensor(0.0010, grad_fn=<AddBackward0>)\n",
            "Epoch 3:\ttest loss 1.0366307497024536\n",
            "Epoch 4:\ttrain loss 1.0315561294555664\n",
            "train loss from l1: tensor(0.0007, grad_fn=<AddBackward0>)\n",
            "Epoch 4:\ttest loss 1.022530198097229\n",
            "Epoch 5:\ttrain loss 1.0230271816253662\n",
            "train loss from l1: tensor(0.0006, grad_fn=<AddBackward0>)\n",
            "Epoch 5:\ttest loss 1.0133318901062012\n",
            "Epoch 6:\ttrain loss 1.0181677341461182\n",
            "train loss from l1: tensor(0.0005, grad_fn=<AddBackward0>)\n",
            "Epoch 6:\ttest loss 1.0081883668899536\n",
            "Epoch 7:\ttrain loss 1.0138275623321533\n",
            "train loss from l1: tensor(0.0005, grad_fn=<AddBackward0>)\n",
            "Epoch 7:\ttest loss 1.0057708024978638\n",
            "Epoch 8:\ttrain loss 1.0114822387695312\n",
            "train loss from l1: tensor(0.0004, grad_fn=<AddBackward0>)\n",
            "Epoch 8:\ttest loss 1.0020334720611572\n",
            "Epoch 9:\ttrain loss 1.0093449354171753\n",
            "train loss from l1: tensor(0.0004, grad_fn=<AddBackward0>)\n",
            "Epoch 9:\ttest loss 1.0006359815597534\n",
            "Epoch 10:\ttrain loss 1.0073634386062622\n",
            "train loss from l1: tensor(0.0003, grad_fn=<AddBackward0>)\n",
            "Epoch 10:\ttest loss 0.9984467625617981\n",
            "Epoch 11:\ttrain loss 1.0052872896194458\n",
            "train loss from l1: tensor(0.0003, grad_fn=<AddBackward0>)\n",
            "Epoch 11:\ttest loss 0.9969226121902466\n",
            "Epoch 12:\ttrain loss 1.003443717956543\n",
            "train loss from l1: tensor(0.0003, grad_fn=<AddBackward0>)\n",
            "Epoch 12:\ttest loss 0.9962295889854431\n",
            "Epoch 13:\ttrain loss 1.001576542854309\n",
            "train loss from l1: tensor(0.0003, grad_fn=<AddBackward0>)\n",
            "Epoch 13:\ttest loss 0.9935817122459412\n",
            "Epoch 14:\ttrain loss 0.9993487596511841\n",
            "train loss from l1: tensor(0.0003, grad_fn=<AddBackward0>)\n",
            "Epoch 14:\ttest loss 0.9906037449836731\n",
            "Epoch 15:\ttrain loss 0.9953917860984802\n",
            "train loss from l1: tensor(0.0003, grad_fn=<AddBackward0>)\n",
            "Epoch 15:\ttest loss 0.9864867329597473\n",
            "Epoch 16:\ttrain loss 0.9906139373779297\n",
            "train loss from l1: tensor(0.0003, grad_fn=<AddBackward0>)\n",
            "Epoch 16:\ttest loss 0.9812578558921814\n",
            "Epoch 17:\ttrain loss 0.9854816794395447\n",
            "train loss from l1: tensor(0.0003, grad_fn=<AddBackward0>)\n",
            "Epoch 17:\ttest loss 0.9751184582710266\n",
            "Epoch 18:\ttrain loss 0.9786964058876038\n",
            "train loss from l1: tensor(0.0003, grad_fn=<AddBackward0>)\n",
            "Epoch 18:\ttest loss 0.9688341617584229\n",
            "Epoch 19:\ttrain loss 0.971336841583252\n",
            "train loss from l1: tensor(0.0004, grad_fn=<AddBackward0>)\n",
            "Epoch 19:\ttest loss 0.9602901339530945\n",
            "Epoch 20:\ttrain loss 0.9655182361602783\n",
            "train loss from l1: tensor(0.0004, grad_fn=<AddBackward0>)\n",
            "Epoch 20:\ttest loss 0.9542616605758667\n",
            "Epoch 21:\ttrain loss 0.9601752161979675\n",
            "train loss from l1: tensor(0.0004, grad_fn=<AddBackward0>)\n",
            "Epoch 21:\ttest loss 0.9477287530899048\n",
            "Epoch 22:\ttrain loss 0.9550958275794983\n",
            "train loss from l1: tensor(0.0004, grad_fn=<AddBackward0>)\n",
            "Epoch 22:\ttest loss 0.9437445998191833\n",
            "Epoch 23:\ttrain loss 0.9513087272644043\n",
            "train loss from l1: tensor(0.0004, grad_fn=<AddBackward0>)\n",
            "Epoch 23:\ttest loss 0.9394224286079407\n",
            "Epoch 24:\ttrain loss 0.94700026512146\n",
            "train loss from l1: tensor(0.0004, grad_fn=<AddBackward0>)\n",
            "Epoch 24:\ttest loss 0.9367986917495728\n",
            "Epoch 25:\ttrain loss 0.944701075553894\n",
            "train loss from l1: tensor(0.0004, grad_fn=<AddBackward0>)\n",
            "Epoch 25:\ttest loss 0.9337859153747559\n",
            "Epoch 26:\ttrain loss 0.9412137269973755\n",
            "train loss from l1: tensor(0.0005, grad_fn=<AddBackward0>)\n",
            "Epoch 26:\ttest loss 0.9317764043807983\n",
            "Epoch 27:\ttrain loss 0.9400337338447571\n",
            "train loss from l1: tensor(0.0005, grad_fn=<AddBackward0>)\n",
            "Epoch 27:\ttest loss 0.9283875226974487\n",
            "Epoch 28:\ttrain loss 0.9376025199890137\n",
            "train loss from l1: tensor(0.0005, grad_fn=<AddBackward0>)\n",
            "Epoch 28:\ttest loss 0.9274265170097351\n",
            "Epoch 29:\ttrain loss 0.9361503720283508\n",
            "train loss from l1: tensor(0.0005, grad_fn=<AddBackward0>)\n",
            "Epoch 29:\ttest loss 0.9253820776939392\n",
            "Epoch 30:\ttrain loss 0.9348888397216797\n",
            "train loss from l1: tensor(0.0005, grad_fn=<AddBackward0>)\n",
            "Epoch 30:\ttest loss 0.9251182675361633\n",
            "Resetting model... Smallest test loss:\t0.9251182675361633\n"
          ]
        }
      ]
    },
    {
      "cell_type": "markdown",
      "source": [
        "### obtain latent space for X_train and X_test"
      ],
      "metadata": {
        "id": "YTHM3ctVX3j_"
      }
    },
    {
      "cell_type": "code",
      "source": [
        "### obtain encoder latent space\n",
        "latent_model = model_all\n",
        "X_train_tensor = torch.tensor(X_train).float()\n",
        "latent_train_repre = latent_model.encoder(X_train_tensor)\n",
        "latent_train_array = latent_train_repre.detach().numpy()\n",
        "\n",
        "X_test_tensor = torch.tensor(X_test).float()\n",
        "latent_test_repre = latent_model.encoder(X_test_tensor)\n",
        "latent_test_array = latent_test_repre.detach().numpy()"
      ],
      "metadata": {
        "id": "qE16Zi9BgNbn"
      },
      "execution_count": null,
      "outputs": []
    },
    {
      "cell_type": "markdown",
      "source": [
        "## Random Forest on Latent Space"
      ],
      "metadata": {
        "id": "guF4V347g03Y"
      }
    },
    {
      "cell_type": "code",
      "source": [
        "# Using corss_val_score to find the best numbers of tree\n",
        "rfc = RandomForestClassifier()\n",
        "n_estimators_range = np.arange(10,200,10)\n",
        "\n",
        "rfc_mean_score = []\n",
        "rfc_std_score = [] # in case the std is too large\n",
        "\n",
        "for n_tree in n_estimators_range:\n",
        "  rfc = RandomForestClassifier(n_tree)\n",
        "  score = cross_val_score(rfc, latent_train_array, y_train_back, cv=5, scoring='accuracy')\n",
        "  mean, std = np.mean(score), np.std(score)\n",
        "  rfc_mean_score.append(mean)\n",
        "  rfc_std_score.append(std)\n",
        "\n",
        "best_n_estimators = n_estimators_range[np.argmax(rfc_mean_score)]\n",
        "score_of_best = rfc_mean_score[np.argmax(rfc_mean_score)]\n",
        "std_of_best = rfc_std_score[np.argmax(rfc_mean_score)]\n",
        "print(f\"Best number of trees (n_estimators): {best_n_estimators} with the mean score of {score_of_best} and std of: {std_of_best}\")"
      ],
      "metadata": {
        "colab": {
          "base_uri": "https://localhost:8080/"
        },
        "id": "38pyVYWagzrx",
        "outputId": "f0c59f86-67ff-476d-eb2f-de9e627639d4"
      },
      "execution_count": null,
      "outputs": [
        {
          "output_type": "stream",
          "name": "stdout",
          "text": [
            "Best number of trees (n_estimators): 140 with the mean score of 0.7303571428571429 and std of: 0.042030722485499356\n"
          ]
        }
      ]
    },
    {
      "cell_type": "code",
      "source": [
        "# plot the mean and std\n",
        "plt.figure(figsize=(10,5))\n",
        "plt.errorbar(n_estimators_range, rfc_mean_score, yerr=rfc_std_score, fmt='-o',\n",
        "             color='black', capsize=5, label='Mean CV Score with Std Dev')\n",
        "plt.xlabel(\"Number of Trees\")\n",
        "plt.ylabel(\"Cross-Validation Score with Std\")\n",
        "plt.legend()\n",
        "plt.title(\"Random Forest: Mean CV Scores with Standard Deviation vs Number of Trees\")\n",
        "plt.show()"
      ],
      "metadata": {
        "colab": {
          "base_uri": "https://localhost:8080/",
          "height": 487
        },
        "id": "SzHeDFHBhIuF",
        "outputId": "9ffea534-4434-4f72-92c5-934541511001"
      },
      "execution_count": null,
      "outputs": [
        {
          "output_type": "display_data",
          "data": {
            "text/plain": [
              "<Figure size 1000x500 with 1 Axes>"
            ],
            "image/png": "[encoded data removed]"
          },
          "metadata": {}
        }
      ]
    },
    {
      "cell_type": "code",
      "source": [
        "# obtain accuracy of test set using training rfc\n",
        "rfc = RandomForestClassifier(best_n_estimators)\n",
        "rfc.fit(latent_train_array, y_train_back)\n",
        "pred_test = rfc.predict(latent_test_array)\n",
        "la_accuracy = accuracy_score(pred_test, y_test_back)\n",
        "print(\"accuracy is \", la_accuracy)\n",
        "print(classification_report(pred_test, y_test_back))"
      ],
      "metadata": {
        "colab": {
          "base_uri": "https://localhost:8080/"
        },
        "id": "4lYvbzbGhMg2",
        "outputId": "4cecc801-5567-4f6f-db3d-30449e705bff"
      },
      "execution_count": null,
      "outputs": [
        {
          "output_type": "stream",
          "name": "stdout",
          "text": [
            "accuracy is  0.6785714285714286\n",
            "              precision    recall  f1-score   support\n",
            "\n",
            "           0       0.83      0.74      0.78        34\n",
            "           1       0.86      0.88      0.87        49\n",
            "           2       0.50      0.43      0.46         7\n",
            "           3       0.20      0.13      0.16        15\n",
            "           4       0.93      0.88      0.90        16\n",
            "           5       0.36      0.38      0.37        13\n",
            "           6       0.00      0.00      0.00         0\n",
            "           7       0.11      0.25      0.15         4\n",
            "           8       0.00      0.00      0.00         0\n",
            "           9       0.67      1.00      0.80         2\n",
            "\n",
            "    accuracy                           0.68       140\n",
            "   macro avg       0.45      0.47      0.45       140\n",
            "weighted avg       0.70      0.68      0.69       140\n",
            "\n"
          ]
        },
        {
          "output_type": "stream",
          "name": "stderr",
          "text": [
            "/usr/local/lib/python3.10/dist-packages/sklearn/metrics/_classification.py:1344: UndefinedMetricWarning: Recall and F-score are ill-defined and being set to 0.0 in labels with no true samples. Use `zero_division` parameter to control this behavior.\n",
            "  _warn_prf(average, modifier, msg_start, len(result))\n",
            "/usr/local/lib/python3.10/dist-packages/sklearn/metrics/_classification.py:1344: UndefinedMetricWarning: Recall and F-score are ill-defined and being set to 0.0 in labels with no true samples. Use `zero_division` parameter to control this behavior.\n",
            "  _warn_prf(average, modifier, msg_start, len(result))\n",
            "/usr/local/lib/python3.10/dist-packages/sklearn/metrics/_classification.py:1344: UndefinedMetricWarning: Recall and F-score are ill-defined and being set to 0.0 in labels with no true samples. Use `zero_division` parameter to control this behavior.\n",
            "  _warn_prf(average, modifier, msg_start, len(result))\n"
          ]
        }
      ]
    },
    {
      "cell_type": "code",
      "source": [
        "# using grid search\n",
        "param_grid = {'n_estimators': [50, 75, 100, 125, 150],\n",
        "    'max_depth': [None,10, 20, 40],\n",
        "    'min_samples_split': [2, 5, 10],\n",
        "    'min_samples_leaf': [1, 2, 4],}\n",
        "# initialize another rfc model for grid search\n",
        "rfc_grid_la = RandomForestClassifier()\n",
        "# initialize grid seach for rfc\n",
        "grid_search_rfc_la = GridSearchCV(estimator=rfc_grid_la, param_grid=param_grid, scoring='accuracy', cv=5, verbose=2, n_jobs=-1)\n",
        "grid_search_rfc_la.fit(X_train, y_train_back)\n",
        "best_params_la = grid_search_rfc_la.best_params_\n",
        "print(f\"Best hyperparameters: {best_params_la}\")\n",
        "best_rfc_la = grid_search_rfc_la.best_estimator_"
      ],
      "metadata": {
        "colab": {
          "base_uri": "https://localhost:8080/"
        },
        "id": "pTP_2lzJhPvq",
        "outputId": "899fc044-8ec2-4648-8dc8-9207894d4db5"
      },
      "execution_count": null,
      "outputs": [
        {
          "output_type": "stream",
          "name": "stdout",
          "text": [
            "Fitting 5 folds for each of 180 candidates, totalling 900 fits\n",
            "Best hyperparameters: {'max_depth': None, 'min_samples_leaf': 1, 'min_samples_split': 2, 'n_estimators': 100}\n"
          ]
        }
      ]
    },
    {
      "cell_type": "code",
      "source": [
        "# obtain accuracy of test set using training rfc\n",
        "best_rfc_la.fit(latent_train_array, y_train_back)\n",
        "pred_test = best_rfc_la.predict(latent_test_array)\n",
        "\n",
        "accuracy_la = accuracy_score(pred_test, y_test_back)\n",
        "print(\"accuracy is \", accuracy_la)\n",
        "print(classification_report(pred_test, y_test_back))"
      ],
      "metadata": {
        "colab": {
          "base_uri": "https://localhost:8080/"
        },
        "id": "mirxKzMwhULU",
        "outputId": "f5843658-622e-46c3-ef73-e8c44165a610"
      },
      "execution_count": null,
      "outputs": [
        {
          "output_type": "stream",
          "name": "stdout",
          "text": [
            "accuracy is  0.6928571428571428\n",
            "              precision    recall  f1-score   support\n",
            "\n",
            "           0       0.83      0.76      0.79        33\n",
            "           1       0.84      0.89      0.87        47\n",
            "           2       0.50      0.43      0.46         7\n",
            "           3       0.60      0.33      0.43        18\n",
            "           4       0.93      0.78      0.85        18\n",
            "           5       0.36      0.42      0.38        12\n",
            "           6       0.00      0.00      0.00         0\n",
            "           7       0.11      0.25      0.15         4\n",
            "           8       0.00      0.00      0.00         0\n",
            "           9       0.33      1.00      0.50         1\n",
            "\n",
            "    accuracy                           0.69       140\n",
            "   macro avg       0.45      0.49      0.44       140\n",
            "weighted avg       0.74      0.69      0.71       140\n",
            "\n"
          ]
        },
        {
          "output_type": "stream",
          "name": "stderr",
          "text": [
            "/usr/local/lib/python3.10/dist-packages/sklearn/metrics/_classification.py:1344: UndefinedMetricWarning: Recall and F-score are ill-defined and being set to 0.0 in labels with no true samples. Use `zero_division` parameter to control this behavior.\n",
            "  _warn_prf(average, modifier, msg_start, len(result))\n",
            "/usr/local/lib/python3.10/dist-packages/sklearn/metrics/_classification.py:1344: UndefinedMetricWarning: Recall and F-score are ill-defined and being set to 0.0 in labels with no true samples. Use `zero_division` parameter to control this behavior.\n",
            "  _warn_prf(average, modifier, msg_start, len(result))\n",
            "/usr/local/lib/python3.10/dist-packages/sklearn/metrics/_classification.py:1344: UndefinedMetricWarning: Recall and F-score are ill-defined and being set to 0.0 in labels with no true samples. Use `zero_division` parameter to control this behavior.\n",
            "  _warn_prf(average, modifier, msg_start, len(result))\n"
          ]
        }
      ]
    },
    {
      "cell_type": "markdown",
      "source": [
        "## Decision Tree on Latent Space"
      ],
      "metadata": {
        "id": "txdxfcQFll6E"
      }
    },
    {
      "cell_type": "code",
      "source": [
        "from sklearn.tree import DecisionTreeClassifier\n",
        "# cross_val_score\n",
        "max_depth_range = np.arange(1,20,2)\n",
        "\n",
        "dt_mean_score = []\n",
        "dt_std_score = [] # in case the std is too large\n",
        "\n",
        "for depth in max_depth_range:\n",
        "  dt = DecisionTreeClassifier(max_depth=depth)\n",
        "  score = cross_val_score(dt, latent_train_array, y_train_back, cv=5, scoring='accuracy', error_score='raise')\n",
        "  mean, std = np.mean(score), np.std(score)\n",
        "  dt_mean_score.append(mean)\n",
        "  dt_std_score.append(std)"
      ],
      "metadata": {
        "id": "EMri-XtllorD"
      },
      "execution_count": null,
      "outputs": []
    },
    {
      "cell_type": "code",
      "source": [
        "best_depth = max_depth_range[np.argmax(dt_mean_score)]\n",
        "score_of_best = dt_mean_score[np.argmax(dt_mean_score)]\n",
        "std_of_best = dt_std_score[np.argmax(dt_mean_score)]\n",
        "print(f\"Best max depth: {best_depth} with the mean score of {score_of_best} and std of: {std_of_best}\")"
      ],
      "metadata": {
        "colab": {
          "base_uri": "https://localhost:8080/"
        },
        "id": "iYrCqQPAltus",
        "outputId": "077f3ad3-519f-424b-ee56-61f5c88023bf"
      },
      "execution_count": null,
      "outputs": [
        {
          "output_type": "stream",
          "name": "stdout",
          "text": [
            "Best max depth: 5 with the mean score of 0.6607142857142857 and std of: 0.0258774584753383\n"
          ]
        }
      ]
    },
    {
      "cell_type": "code",
      "source": [
        "# plot the mean and std\n",
        "plt.figure(figsize=(10,5))\n",
        "plt.errorbar(max_depth_range, dt_mean_score, yerr=dt_std_score, fmt='-o',\n",
        "             color='black', capsize=5, label='Mean CV Score with Std Dev')\n",
        "plt.xlabel(\"Max Depth\")\n",
        "plt.ylabel(\"Cross-Validation Score with Std\")\n",
        "plt.legend()\n",
        "plt.title(\"Decision Tree: Mean CV Scores with Standard Deviation vs Number of Trees\")\n",
        "plt.show()"
      ],
      "metadata": {
        "colab": {
          "base_uri": "https://localhost:8080/",
          "height": 487
        },
        "id": "m6QZb-E8lxAr",
        "outputId": "746cb890-c5d5-4030-e4da-097cca467a07"
      },
      "execution_count": null,
      "outputs": [
        {
          "output_type": "display_data",
          "data": {
            "text/plain": [
              "<Figure size 1000x500 with 1 Axes>"
            ],
            "image/png": "[encoded data removed]"
          },
          "metadata": {}
        }
      ]
    },
    {
      "cell_type": "code",
      "source": [
        "# obtain accuracy of test set using training rfc\n",
        "dt = DecisionTreeClassifier(max_depth=best_depth) \n",
        "dt.fit(latent_train_array, y_train_back)\n",
        "pred_test = dt.predict(latent_test_array)\n",
        "accuracy = accuracy_score(pred_test, y_test_back)\n",
        "print(\"accuracy is \", accuracy)\n",
        "print(classification_report(pred_test, y_test_back))"
      ],
      "metadata": {
        "colab": {
          "base_uri": "https://localhost:8080/"
        },
        "id": "rVWHEZyLmDIB",
        "outputId": "b0bbcfb5-e524-4f29-b061-cab82b8dd946"
      },
      "execution_count": null,
      "outputs": [
        {
          "output_type": "stream",
          "name": "stdout",
          "text": [
            "accuracy is  0.6071428571428571\n",
            "              precision    recall  f1-score   support\n",
            "\n",
            "           0       0.80      0.59      0.68        41\n",
            "           1       0.76      0.86      0.81        44\n",
            "           2       0.83      0.56      0.67         9\n",
            "           3       0.80      0.28      0.41        29\n",
            "           4       0.53      0.89      0.67         9\n",
            "           5       0.14      0.50      0.22         4\n",
            "           6       0.00      0.00      0.00         3\n",
            "           7       0.00      0.00      0.00         0\n",
            "           8       0.00      0.00      0.00         0\n",
            "           9       0.00      0.00      0.00         1\n",
            "\n",
            "    accuracy                           0.61       140\n",
            "   macro avg       0.39      0.37      0.35       140\n",
            "weighted avg       0.73      0.61      0.63       140\n",
            "\n"
          ]
        },
        {
          "output_type": "stream",
          "name": "stderr",
          "text": [
            "/usr/local/lib/python3.10/dist-packages/sklearn/metrics/_classification.py:1344: UndefinedMetricWarning: Recall and F-score are ill-defined and being set to 0.0 in labels with no true samples. Use `zero_division` parameter to control this behavior.\n",
            "  _warn_prf(average, modifier, msg_start, len(result))\n",
            "/usr/local/lib/python3.10/dist-packages/sklearn/metrics/_classification.py:1344: UndefinedMetricWarning: Recall and F-score are ill-defined and being set to 0.0 in labels with no true samples. Use `zero_division` parameter to control this behavior.\n",
            "  _warn_prf(average, modifier, msg_start, len(result))\n",
            "/usr/local/lib/python3.10/dist-packages/sklearn/metrics/_classification.py:1344: UndefinedMetricWarning: Recall and F-score are ill-defined and being set to 0.0 in labels with no true samples. Use `zero_division` parameter to control this behavior.\n",
            "  _warn_prf(average, modifier, msg_start, len(result))\n"
          ]
        }
      ]
    },
    {
      "cell_type": "code",
      "source": [
        "# using grid search\n",
        "param_grid = {\n",
        "    'max_depth': [None,2, 4, 6, 8],\n",
        "    'min_samples_split': [1, 2, 5, 7,10],\n",
        "    'min_samples_leaf': [1, 2, 4, 6, 8],}\n",
        "# initialize another rfc model for grid search\n",
        "dt_grid_la = DecisionTreeClassifier()\n",
        "# initialize grid seach for rfc\n",
        "grid_search_dt_la = GridSearchCV(estimator=dt_grid_la, param_grid=param_grid, scoring='accuracy', cv=5, verbose=2, n_jobs=-1)\n",
        "grid_search_dt_la.fit(latent_train_array, y_train_back)\n",
        "best_params = grid_search_dt_la.best_params_\n",
        "print(f\"Best hyperparameters: {best_params}\")\n",
        "best_dt = grid_search_dt_la.best_estimator_"
      ],
      "metadata": {
        "colab": {
          "base_uri": "https://localhost:8080/"
        },
        "id": "KYFL_LeAmMYJ",
        "outputId": "4431ea37-a1b9-4885-955e-6a706f69ecbd"
      },
      "execution_count": null,
      "outputs": [
        {
          "output_type": "stream",
          "name": "stdout",
          "text": [
            "Fitting 5 folds for each of 125 candidates, totalling 625 fits\n",
            "Best hyperparameters: {'max_depth': 6, 'min_samples_leaf': 8, 'min_samples_split': 2}\n"
          ]
        },
        {
          "output_type": "stream",
          "name": "stderr",
          "text": [
            "/usr/local/lib/python3.10/dist-packages/sklearn/model_selection/_validation.py:378: FitFailedWarning: \n",
            "125 fits failed out of a total of 625.\n",
            "The score on these train-test partitions for these parameters will be set to nan.\n",
            "If these failures are not expected, you can try to debug them by setting error_score='raise'.\n",
            "\n",
            "Below are more details about the failures:\n",
            "--------------------------------------------------------------------------------\n",
            "125 fits failed with the following error:\n",
            "Traceback (most recent call last):\n",
            "  File \"/usr/local/lib/python3.10/dist-packages/sklearn/model_selection/_validation.py\", line 686, in _fit_and_score\n",
            "    estimator.fit(X_train, y_train, **fit_params)\n",
            "  File \"/usr/local/lib/python3.10/dist-packages/sklearn/tree/_classes.py\", line 889, in fit\n",
            "    super().fit(\n",
            "  File \"/usr/local/lib/python3.10/dist-packages/sklearn/tree/_classes.py\", line 177, in fit\n",
            "    self._validate_params()\n",
            "  File \"/usr/local/lib/python3.10/dist-packages/sklearn/base.py\", line 600, in _validate_params\n",
            "    validate_parameter_constraints(\n",
            "  File \"/usr/local/lib/python3.10/dist-packages/sklearn/utils/_param_validation.py\", line 97, in validate_parameter_constraints\n",
            "    raise InvalidParameterError(\n",
            "sklearn.utils._param_validation.InvalidParameterError: The 'min_samples_split' parameter of DecisionTreeClassifier must be an int in the range [2, inf) or a float in the range (0.0, 1.0]. Got 1 instead.\n",
            "\n",
            "  warnings.warn(some_fits_failed_message, FitFailedWarning)\n",
            "/usr/local/lib/python3.10/dist-packages/sklearn/model_selection/_search.py:952: UserWarning: One or more of the test scores are non-finite: [       nan 0.63392857 0.63392857 0.63571429 0.64285714        nan\n",
            " 0.63392857 0.625      0.64285714 0.64107143        nan 0.64642857\n",
            " 0.64107143 0.65178571 0.65357143        nan 0.65357143 0.65714286\n",
            " 0.65714286 0.65535714        nan 0.66607143 0.66785714 0.66607143\n",
            " 0.66785714        nan 0.625      0.625      0.625      0.625\n",
            "        nan 0.625      0.625      0.625      0.625             nan\n",
            " 0.625      0.625      0.625      0.625             nan 0.625\n",
            " 0.625      0.625      0.625             nan 0.625      0.625\n",
            " 0.625      0.625             nan 0.65       0.65178571 0.64821429\n",
            " 0.64642857        nan 0.65357143 0.65357143 0.65178571 0.64821429\n",
            "        nan 0.64821429 0.64821429 0.64642857 0.64821429        nan\n",
            " 0.64642857 0.64642857 0.64642857 0.64642857        nan 0.65357143\n",
            " 0.65357143 0.65357143 0.65357143        nan 0.64821429 0.65892857\n",
            " 0.66428571 0.65892857        nan 0.66428571 0.65535714 0.66428571\n",
            " 0.66428571        nan 0.67321429 0.675      0.68035714 0.67321429\n",
            "        nan 0.67142857 0.67142857 0.67142857 0.67142857        nan\n",
            " 0.68214286 0.68214286 0.68214286 0.68214286        nan 0.64821429\n",
            " 0.64285714 0.65714286 0.65178571        nan 0.65535714 0.65\n",
            " 0.66607143 0.66071429        nan 0.65357143 0.65714286 0.65892857\n",
            " 0.66071429        nan 0.6625     0.66428571 0.66428571 0.66428571\n",
            "        nan 0.67678571 0.67678571 0.67857143 0.675     ]\n",
            "  warnings.warn(\n"
          ]
        }
      ]
    },
    {
      "cell_type": "code",
      "source": [
        "# obtain accuracy of test set using training dt\n",
        "best_dt.fit(latent_train_array, y_train_back)\n",
        "pred_test = best_dt.predict(latent_test_array)\n",
        "accuracy_dt_la = accuracy_score(pred_test, y_test_back)\n",
        "print(\"accuracy of decision tree classifier is \", accuracy_dt_la)\n",
        "print(classification_report(pred_test, y_test_back))"
      ],
      "metadata": {
        "colab": {
          "base_uri": "https://localhost:8080/"
        },
        "id": "n57unqT2mhH4",
        "outputId": "c16fb0f6-768e-46cb-9ee7-342b58f5c49f"
      },
      "execution_count": null,
      "outputs": [
        {
          "output_type": "stream",
          "name": "stdout",
          "text": [
            "accuracy of decision tree classifier is  0.5785714285714286\n",
            "              precision    recall  f1-score   support\n",
            "\n",
            "           0       0.60      0.67      0.63        27\n",
            "           1       0.82      0.75      0.78        55\n",
            "           2       0.50      0.43      0.46         7\n",
            "           3       0.40      0.31      0.35        13\n",
            "           4       0.53      0.89      0.67         9\n",
            "           5       0.21      0.43      0.29         7\n",
            "           6       0.00      0.00      0.00         3\n",
            "           7       0.44      0.27      0.33        15\n",
            "           8       0.00      0.00      0.00         0\n",
            "           9       0.00      0.00      0.00         4\n",
            "\n",
            "    accuracy                           0.58       140\n",
            "   macro avg       0.35      0.37      0.35       140\n",
            "weighted avg       0.59      0.58      0.58       140\n",
            "\n"
          ]
        },
        {
          "output_type": "stream",
          "name": "stderr",
          "text": [
            "/usr/local/lib/python3.10/dist-packages/sklearn/metrics/_classification.py:1344: UndefinedMetricWarning: Recall and F-score are ill-defined and being set to 0.0 in labels with no true samples. Use `zero_division` parameter to control this behavior.\n",
            "  _warn_prf(average, modifier, msg_start, len(result))\n",
            "/usr/local/lib/python3.10/dist-packages/sklearn/metrics/_classification.py:1344: UndefinedMetricWarning: Recall and F-score are ill-defined and being set to 0.0 in labels with no true samples. Use `zero_division` parameter to control this behavior.\n",
            "  _warn_prf(average, modifier, msg_start, len(result))\n",
            "/usr/local/lib/python3.10/dist-packages/sklearn/metrics/_classification.py:1344: UndefinedMetricWarning: Recall and F-score are ill-defined and being set to 0.0 in labels with no true samples. Use `zero_division` parameter to control this behavior.\n",
            "  _warn_prf(average, modifier, msg_start, len(result))\n"
          ]
        }
      ]
    },
    {
      "cell_type": "markdown",
      "source": [
        "## AdaBoost on Latent Space"
      ],
      "metadata": {
        "id": "3hr_IULfm-N9"
      }
    },
    {
      "cell_type": "code",
      "source": [
        "from sklearn.ensemble import AdaBoostClassifier\n",
        "# cross_val_score\n",
        "#dt = DecisionTreeClassifier()\n",
        "n_estimators_range = np.arange(10,200,10)\n",
        "\n",
        "clf_mean_score = []\n",
        "clf_std_score = [] # in case the std is too large\n",
        "\n",
        "for n in n_estimators_range:\n",
        "  clf = AdaBoostClassifier(n_estimators=n)\n",
        "  score = cross_val_score(clf, latent_train_array, y_train_back, cv=5, scoring='accuracy')\n",
        "  mean, std = np.mean(score), np.std(score)\n",
        "  clf_mean_score.append(mean)\n",
        "  clf_std_score.append(std)"
      ],
      "metadata": {
        "id": "Nfv7m2GinAb_"
      },
      "execution_count": null,
      "outputs": []
    },
    {
      "cell_type": "code",
      "source": [
        "best_n_estimators = n_estimators_range[np.argmax(clf_mean_score)]\n",
        "score_of_best = clf_mean_score[np.argmax(clf_mean_score)]\n",
        "std_of_best = clf_std_score[np.argmax(clf_mean_score)]\n",
        "print(f\"Best number of trees (n_estimators): {best_n_estimators} with the mean score of {score_of_best} and std of: {std_of_best}\")"
      ],
      "metadata": {
        "colab": {
          "base_uri": "https://localhost:8080/"
        },
        "id": "W5IKoHWpnITI",
        "outputId": "4749fec9-2972-4437-f462-17b7d416b118"
      },
      "execution_count": null,
      "outputs": [
        {
          "output_type": "stream",
          "name": "stdout",
          "text": [
            "Best number of trees (n_estimators): 10 with the mean score of 0.5410714285714285 and std of: 0.06766891186248719\n"
          ]
        }
      ]
    },
    {
      "cell_type": "code",
      "source": [
        "# plot the mean and std\n",
        "plt.figure(figsize=(10,5))\n",
        "plt.errorbar(n_estimators_range, clf_mean_score, yerr=clf_std_score, fmt='-o',\n",
        "             color='black', capsize=5, label='Mean CV Score with Std Dev')\n",
        "plt.xlabel(\"Number of Estimators\")\n",
        "plt.ylabel(\"Cross-Validation Score with Std\")\n",
        "plt.legend()\n",
        "plt.title(\"AdaBoost: Mean CV Scores with Standard Deviation vs Number of Estimators\")\n",
        "plt.show()"
      ],
      "metadata": {
        "colab": {
          "base_uri": "https://localhost:8080/",
          "height": 487
        },
        "id": "q-s8pH0VnMfg",
        "outputId": "6007ee21-cb4c-477e-e46d-35f88595d512"
      },
      "execution_count": null,
      "outputs": [
        {
          "output_type": "display_data",
          "data": {
            "text/plain": [
              "<Figure size 1000x500 with 1 Axes>"
            ],
            "image/png": "[encoded data removed]"
          },
          "metadata": {}
        }
      ]
    },
    {
      "cell_type": "code",
      "source": [
        "# obtain accuracy of test set using training rfc\n",
        "clf = DecisionTreeClassifier(max_depth=best_depth) \n",
        "clf.fit(latent_train_array, y_train_back)\n",
        "pred_test = clf.predict(latent_test_array)\n",
        "accuracy = accuracy_score(pred_test, y_test_back)\n",
        "print(\"accuracy is \", accuracy)\n",
        "print(classification_report(pred_test, y_test_back))"
      ],
      "metadata": {
        "colab": {
          "base_uri": "https://localhost:8080/"
        },
        "id": "CjCuaKDXpzzr",
        "outputId": "18d95e2c-2f99-4594-9655-70bebdb0fa3e"
      },
      "execution_count": null,
      "outputs": [
        {
          "output_type": "stream",
          "name": "stdout",
          "text": [
            "accuracy is  0.6142857142857143\n",
            "              precision    recall  f1-score   support\n",
            "\n",
            "           0       0.80      0.60      0.69        40\n",
            "           1       0.76      0.86      0.81        44\n",
            "           2       0.83      0.56      0.67         9\n",
            "           3       0.80      0.28      0.41        29\n",
            "           4       0.60      0.90      0.72        10\n",
            "           5       0.14      0.50      0.22         4\n",
            "           6       0.00      0.00      0.00         3\n",
            "           7       0.00      0.00      0.00         0\n",
            "           8       0.00      0.00      0.00         0\n",
            "           9       0.00      0.00      0.00         1\n",
            "\n",
            "    accuracy                           0.61       140\n",
            "   macro avg       0.39      0.37      0.35       140\n",
            "weighted avg       0.73      0.61      0.64       140\n",
            "\n"
          ]
        },
        {
          "output_type": "stream",
          "name": "stderr",
          "text": [
            "/usr/local/lib/python3.10/dist-packages/sklearn/metrics/_classification.py:1344: UndefinedMetricWarning: Recall and F-score are ill-defined and being set to 0.0 in labels with no true samples. Use `zero_division` parameter to control this behavior.\n",
            "  _warn_prf(average, modifier, msg_start, len(result))\n",
            "/usr/local/lib/python3.10/dist-packages/sklearn/metrics/_classification.py:1344: UndefinedMetricWarning: Recall and F-score are ill-defined and being set to 0.0 in labels with no true samples. Use `zero_division` parameter to control this behavior.\n",
            "  _warn_prf(average, modifier, msg_start, len(result))\n",
            "/usr/local/lib/python3.10/dist-packages/sklearn/metrics/_classification.py:1344: UndefinedMetricWarning: Recall and F-score are ill-defined and being set to 0.0 in labels with no true samples. Use `zero_division` parameter to control this behavior.\n",
            "  _warn_prf(average, modifier, msg_start, len(result))\n"
          ]
        }
      ]
    },
    {
      "cell_type": "code",
      "source": [
        "base_classifier = DecisionTreeClassifier(max_depth=5)\n",
        "ada_clf = AdaBoostClassifier(base_estimator=base_classifier)\n",
        "\n",
        "param_grid = {\n",
        "    'n_estimators': [50, 100, 150],\n",
        "    'learning_rate': [0.005, 0.01, 0.1],\n",
        "    'algorithm': ['SAMME', 'SAMME.R']\n",
        "}\n",
        "\n",
        "grid_search_ada_la = GridSearchCV(ada_clf, param_grid, cv=5, scoring='accuracy', n_jobs=-1)"
      ],
      "metadata": {
        "id": "15Ra-3x5p_YA"
      },
      "execution_count": null,
      "outputs": []
    },
    {
      "cell_type": "code",
      "source": [
        "grid_search_ada_la.fit(latent_train_array, y_train_back)\n",
        "best_ada_params_la = grid_search_ada_la.best_params_\n",
        "print(f\"Best hyperparameters: {best_ada_params_la}\")\n",
        "best_ada_clf_la = grid_search_ada_la.best_estimator_"
      ],
      "metadata": {
        "colab": {
          "base_uri": "https://localhost:8080/"
        },
        "id": "dnitfb5_qN5u",
        "outputId": "e4b26caf-3d14-4110-c0c7-57c4ac361053"
      },
      "execution_count": null,
      "outputs": [
        {
          "output_type": "stream",
          "name": "stderr",
          "text": [
            "/usr/local/lib/python3.10/dist-packages/sklearn/ensemble/_base.py:166: FutureWarning: `base_estimator` was renamed to `estimator` in version 1.2 and will be removed in 1.4.\n",
            "  warnings.warn(\n"
          ]
        },
        {
          "output_type": "stream",
          "name": "stdout",
          "text": [
            "Best hyperparameters: {'algorithm': 'SAMME', 'learning_rate': 0.1, 'n_estimators': 50}\n"
          ]
        }
      ]
    },
    {
      "cell_type": "code",
      "source": [
        "# obtain accuracy of test set using training dt\n",
        "best_ada_clf_la.fit(latent_train_array, y_train_back)\n",
        "pred_test = best_ada_clf_la.predict(latent_test_array)\n",
        "accuracy_ada_la = accuracy_score(pred_test, y_test_back)\n",
        "print(\"accuracy of AdaBoost classifier is \", accuracy_ada_la)\n",
        "print(classification_report(pred_test, y_test_back))"
      ],
      "metadata": {
        "colab": {
          "base_uri": "https://localhost:8080/"
        },
        "id": "NdqHM6drqgfd",
        "outputId": "a61cf1e7-3b8a-42ff-8a0c-58543e2ae6e9"
      },
      "execution_count": null,
      "outputs": [
        {
          "output_type": "stream",
          "name": "stderr",
          "text": [
            "/usr/local/lib/python3.10/dist-packages/sklearn/ensemble/_base.py:166: FutureWarning: `base_estimator` was renamed to `estimator` in version 1.2 and will be removed in 1.4.\n",
            "  warnings.warn(\n"
          ]
        },
        {
          "output_type": "stream",
          "name": "stdout",
          "text": [
            "accuracy of AdaBoost classifier is  0.6714285714285714\n",
            "              precision    recall  f1-score   support\n",
            "\n",
            "           0       0.80      0.73      0.76        33\n",
            "           1       0.86      0.88      0.87        49\n",
            "           2       0.67      0.57      0.62         7\n",
            "           3       0.40      0.21      0.28        19\n",
            "           4       0.93      0.78      0.85        18\n",
            "           5       0.36      0.62      0.45         8\n",
            "           6       0.00      0.00      0.00         1\n",
            "           7       0.00      0.00      0.00         5\n",
            "           8       0.00      0.00      0.00         0\n",
            "           9       0.00      0.00      0.00         0\n",
            "\n",
            "    accuracy                           0.67       140\n",
            "   macro avg       0.40      0.38      0.38       140\n",
            "weighted avg       0.72      0.67      0.69       140\n",
            "\n"
          ]
        },
        {
          "output_type": "stream",
          "name": "stderr",
          "text": [
            "/usr/local/lib/python3.10/dist-packages/sklearn/metrics/_classification.py:1344: UndefinedMetricWarning: Recall and F-score are ill-defined and being set to 0.0 in labels with no true samples. Use `zero_division` parameter to control this behavior.\n",
            "  _warn_prf(average, modifier, msg_start, len(result))\n",
            "/usr/local/lib/python3.10/dist-packages/sklearn/metrics/_classification.py:1344: UndefinedMetricWarning: Recall and F-score are ill-defined and being set to 0.0 in labels with no true samples. Use `zero_division` parameter to control this behavior.\n",
            "  _warn_prf(average, modifier, msg_start, len(result))\n",
            "/usr/local/lib/python3.10/dist-packages/sklearn/metrics/_classification.py:1344: UndefinedMetricWarning: Recall and F-score are ill-defined and being set to 0.0 in labels with no true samples. Use `zero_division` parameter to control this behavior.\n",
            "  _warn_prf(average, modifier, msg_start, len(result))\n"
          ]
        }
      ]
    },
    {
      "cell_type": "markdown",
      "source": [
        "## Support Vector Machine (SVM) on Latent Space\n"
      ],
      "metadata": {
        "id": "FeeOyE9mCBHB"
      }
    },
    {
      "cell_type": "code",
      "source": [
        "from sklearn.preprocessing import StandardScaler\n",
        "from sklearn.svm import SVC\n",
        "scaler = StandardScaler()\n",
        "X_train = scaler.fit_transform(X_train)\n",
        "X_test = scaler.transform(X_test)\n",
        "\n",
        "svc = SVC()\n",
        "\n",
        "param_grid = {\n",
        "    'C': [0.1, 1, 10, 100],\n",
        "    'kernel': ['linear', 'rbf'],\n",
        "    'gamma': ['scale', 'auto',1, 0.1, 0.01, 0.001]\n",
        "}\n",
        "\n",
        "grid_search_svc = GridSearchCV(svc, param_grid, cv=5, scoring='accuracy', n_jobs=-1)\n",
        "grid_search_svc.fit(latent_train_array, y_train_back)\n",
        "\n",
        "best_svc_params = grid_search_svc.best_params_\n",
        "print(f\"Best hyperparameters: {best_svc_params}\")\n",
        "best_svc = grid_search_svc.best_estimator_\n"
      ],
      "metadata": {
        "colab": {
          "base_uri": "https://localhost:8080/"
        },
        "id": "UGM17VUiCAg-",
        "outputId": "96269a20-e88f-4afb-b006-6715e090da2f"
      },
      "execution_count": null,
      "outputs": [
        {
          "output_type": "stream",
          "name": "stdout",
          "text": [
            "Best hyperparameters: {'C': 1, 'gamma': 0.1, 'kernel': 'rbf'}\n"
          ]
        }
      ]
    },
    {
      "cell_type": "code",
      "source": [
        "# obtain accuracy of test set using training dt\n",
        "best_svc.fit(latent_train_array, y_train_back)\n",
        "pred_test = best_svc.predict(latent_test_array)\n",
        "accuracy = accuracy_score(pred_test, y_test_back)\n",
        "print(\"accuracy of decision tree classifier is \", accuracy)\n",
        "print(classification_report(pred_test, y_test_back))"
      ],
      "metadata": {
        "colab": {
          "base_uri": "https://localhost:8080/"
        },
        "id": "yhfOBkEiCeX5",
        "outputId": "773385fc-c4da-4b9c-a61d-636066843f19"
      },
      "execution_count": null,
      "outputs": [
        {
          "output_type": "stream",
          "name": "stdout",
          "text": [
            "accuracy of decision tree classifier is  0.6785714285714286\n",
            "              precision    recall  f1-score   support\n",
            "\n",
            "           0       0.83      0.78      0.81        32\n",
            "           1       0.86      0.86      0.86        50\n",
            "           2       0.33      0.25      0.29         8\n",
            "           3       0.60      0.30      0.40        20\n",
            "           4       0.93      0.88      0.90        16\n",
            "           5       0.29      0.31      0.30        13\n",
            "           6       0.00      0.00      0.00         0\n",
            "           7       0.00      0.00      0.00         0\n",
            "           8       0.00      0.00      0.00         0\n",
            "           9       0.33      1.00      0.50         1\n",
            "\n",
            "    accuracy                           0.68       140\n",
            "   macro avg       0.42      0.44      0.41       140\n",
            "weighted avg       0.74      0.68      0.70       140\n",
            "\n"
          ]
        },
        {
          "output_type": "stream",
          "name": "stderr",
          "text": [
            "/usr/local/lib/python3.10/dist-packages/sklearn/metrics/_classification.py:1344: UndefinedMetricWarning: Recall and F-score are ill-defined and being set to 0.0 in labels with no true samples. Use `zero_division` parameter to control this behavior.\n",
            "  _warn_prf(average, modifier, msg_start, len(result))\n",
            "/usr/local/lib/python3.10/dist-packages/sklearn/metrics/_classification.py:1344: UndefinedMetricWarning: Recall and F-score are ill-defined and being set to 0.0 in labels with no true samples. Use `zero_division` parameter to control this behavior.\n",
            "  _warn_prf(average, modifier, msg_start, len(result))\n",
            "/usr/local/lib/python3.10/dist-packages/sklearn/metrics/_classification.py:1344: UndefinedMetricWarning: Recall and F-score are ill-defined and being set to 0.0 in labels with no true samples. Use `zero_division` parameter to control this behavior.\n",
            "  _warn_prf(average, modifier, msg_start, len(result))\n"
          ]
        }
      ]
    },
    {
      "cell_type": "markdown",
      "source": [
        "## FFNN on Latent Space"
      ],
      "metadata": {
        "id": "QNY9Ql2QrLsH"
      }
    },
    {
      "cell_type": "code",
      "source": [
        "latent_train_t, y_train_back_t = torch.tensor(latent_train_array).type(torch.float32), torch.tensor(y_train_back).type(torch.long)\n",
        "latent_test_t, y_test_back_t = torch.tensor(latent_test_array).type(torch.float32), torch.tensor(y_test_back).type(torch.long)"
      ],
      "metadata": {
        "id": "-YM007sCsiuy"
      },
      "execution_count": null,
      "outputs": []
    },
    {
      "cell_type": "code",
      "source": [
        "class My_Network_latent(nn.Module):\n",
        "    def __init__(self, num_layers, hidden_size):\n",
        "        super().__init__()\n",
        "        input_dim = 48\n",
        "        output_dim = 10\n",
        "        drop_rate = 0.1\n",
        "        #mid_dim = int(hidden_size * drop_rate)\n",
        "\n",
        "        self.num_layers = num_layers\n",
        "        self.hidden_size = hidden_size\n",
        "        self.input_layer = nn.Linear(input_dim, hidden_size)\n",
        "        \n",
        "        self.hidden_layer_list = nn.ModuleList() #generate a list of hidden layer with different weight and bias\n",
        "        self.batch_norm_list = nn.ModuleList()\n",
        "        for i in range(num_layers):\n",
        "          self.hidden_layer_list.append(nn.Linear(hidden_size, hidden_size))\n",
        "          self.batch_norm_list.append(nn.BatchNorm1d(hidden_size))\n",
        "        self.batch_norm = nn.BatchNorm1d(hidden_size) #Lu: remember dropout layer don't change the shape of hidden layer\n",
        "        self.drop_layer = nn.Dropout(drop_rate) # 50% probability \n",
        "       \n",
        "        #self.hidden_layer_mid = nn.Linear(mid_dim, hidden_size)\n",
        "        self.output_layer = nn.Linear(hidden_size, output_dim)\n",
        "    \n",
        "    def forward(self, X):\n",
        "        X = self.input_layer(X)\n",
        "        \n",
        "        X = self.batch_norm(X)\n",
        "        X = F.relu(X)\n",
        "        for hidden_layer, batch_norm in zip(self.hidden_layer_list, self.batch_norm_list):\n",
        "          \n",
        "          X = hidden_layer(X)\n",
        "          \n",
        "          X = batch_norm(X)\n",
        "          X = F.relu(X)\n",
        "          X = self.drop_layer(X)\n",
        "        logits = self.output_layer(X) \n",
        "        return logits\n",
        "    def classify(self, X):\n",
        "        X = torch.clone(X).type(torch.float32)\n",
        "        logits = self.forward(X) # calculate theta after NN forward (define by my self)\n",
        "        soft_prob = F.softmax(logits, dim=1)\n",
        "        labels = torch.argmax(soft_prob, dim=1)\n",
        "        return labels"
      ],
      "metadata": {
        "id": "9JY_DK-os1xl"
      },
      "execution_count": null,
      "outputs": []
    },
    {
      "cell_type": "code",
      "source": [
        "def train_2(model, X_train, y_train, X_val, y_val, epochs=15, batch_size=12, lr=1e-4):\n",
        "    \n",
        "    best_acc = -1\n",
        "    best_model = None\n",
        "    batches = len(X_train)//batch_size   # using batch_size, determine the number of batches needed\n",
        "\n",
        "    loss_fn = nn.CrossEntropyLoss()                             # read the write-up for an explanation on CrossEntropyLoss()\n",
        "    # nn.module.parameter(): w and b\n",
        "    optimizer = torch.optim.Adam(model.parameters(), lr=lr)     # read the write-up for an explanation on Adam\n",
        "\n",
        "    losses = []\n",
        "    train_accs = []\n",
        "    accuracies = []\n",
        "\n",
        "    for epoch in range(epochs):\n",
        "        for i in range(batches):\n",
        "            X_batch = X_train[i*batch_size : (i+1)*batch_size]\n",
        "            y_batch = y_train[i*batch_size : (i+1)*batch_size]\n",
        "            \n",
        "            logits = model.forward(X_batch)\n",
        "            \n",
        "            #prob_soft = F.softmax(logits, dim=1)\n",
        "            loss = loss_fn(logits, y_batch)\n",
        "\n",
        "            optimizer.zero_grad()   # erases the gradients from the previous epoch (sets all gradients to 0)\n",
        "            loss.backward()         # calculates the gradients with respect to every single weight matrix in the model\n",
        "            optimizer.step()        # takes ONE learning step with the gradients just calculated\n",
        "\n",
        "        train_label = model.classify(X_train) #Lu: obtain updated theta from backward. don't put this step before loss.backward\n",
        "        cur_train_accu = sklearn.metrics.accuracy_score(y_train, train_label)\n",
        "\n",
        "        val_label = model.classify(X_val)\n",
        "        accuracy = sklearn.metrics.accuracy_score(y_val, val_label)\n",
        "\n",
        "        losses.append(loss)  #append loss\n",
        "        train_accs.append(cur_train_accu)\n",
        "        accuracies.append(accuracy)\n",
        "\n",
        "        if accuracy > best_acc:     # implement the fall-back technique mentioned in the description\n",
        "            best_acc = accuracy\n",
        "            #deepcopy: has a new address for the copy of this datapoint \n",
        "            best_model = deepcopy(model)\n",
        "        if accuracy < best_acc - 0.1:\n",
        "            print(\"stopping early!\")\n",
        "            break\n",
        "\n",
        "        print(f\"Epoch {epoch + 1}:\\tloss {np.round(loss.detach().cpu().numpy().item(), 4)}\\t& accuracy {np.round(accuracy, 4)}\")\n",
        "    print(f\"Resetting model... Best validation accuracy:\\t{np.round(best_acc, 4)}\")\n",
        "    model.load_state_dict(best_model.state_dict())\n",
        "    return losses, accuracies, train_accs"
      ],
      "metadata": {
        "id": "1kTS55ndtAC9"
      },
      "execution_count": null,
      "outputs": []
    },
    {
      "cell_type": "code",
      "source": [
        "my_model = My_Network_latent(2, 48)\n",
        "losses, accuracies, train_accs = train_2(my_model, latent_train_t, y_train_back_t, latent_test_t, y_test_back_t, epochs=50)"
      ],
      "metadata": {
        "colab": {
          "base_uri": "https://localhost:8080/"
        },
        "id": "YTgBab6TrNBo",
        "outputId": "b2a712ed-42ff-452d-dafd-0eefdea5d43f"
      },
      "execution_count": null,
      "outputs": [
        {
          "output_type": "stream",
          "name": "stdout",
          "text": [
            "Epoch 1:\tloss 2.5525\t& accuracy 0.1\n",
            "Epoch 2:\tloss 2.283\t& accuracy 0.2714\n",
            "Epoch 3:\tloss 2.1806\t& accuracy 0.4643\n",
            "Epoch 4:\tloss 2.1294\t& accuracy 0.6071\n",
            "Epoch 5:\tloss 2.1336\t& accuracy 0.6571\n",
            "Epoch 6:\tloss 2.1155\t& accuracy 0.6643\n",
            "Epoch 7:\tloss 1.9571\t& accuracy 0.6786\n",
            "Epoch 8:\tloss 1.8879\t& accuracy 0.6929\n",
            "Epoch 9:\tloss 1.9003\t& accuracy 0.7071\n",
            "Epoch 10:\tloss 1.7152\t& accuracy 0.6857\n",
            "Epoch 11:\tloss 1.8327\t& accuracy 0.6786\n",
            "Epoch 12:\tloss 1.6422\t& accuracy 0.6929\n",
            "Epoch 13:\tloss 1.6056\t& accuracy 0.7\n",
            "Epoch 14:\tloss 1.5388\t& accuracy 0.6571\n",
            "Epoch 15:\tloss 1.4971\t& accuracy 0.6786\n",
            "Epoch 16:\tloss 1.4574\t& accuracy 0.6786\n",
            "Epoch 17:\tloss 1.428\t& accuracy 0.7143\n",
            "Epoch 18:\tloss 1.505\t& accuracy 0.7214\n",
            "Epoch 19:\tloss 1.529\t& accuracy 0.6857\n",
            "Epoch 20:\tloss 1.3941\t& accuracy 0.7143\n",
            "Epoch 21:\tloss 1.343\t& accuracy 0.7214\n",
            "Epoch 22:\tloss 1.3359\t& accuracy 0.7\n",
            "Epoch 23:\tloss 1.3456\t& accuracy 0.7071\n",
            "Epoch 24:\tloss 1.3516\t& accuracy 0.7143\n",
            "Epoch 25:\tloss 1.351\t& accuracy 0.7071\n",
            "Epoch 26:\tloss 1.27\t& accuracy 0.7\n",
            "Epoch 27:\tloss 1.3007\t& accuracy 0.7071\n",
            "Epoch 28:\tloss 1.2461\t& accuracy 0.7071\n",
            "Epoch 29:\tloss 1.1948\t& accuracy 0.6929\n",
            "Epoch 30:\tloss 1.2779\t& accuracy 0.7\n",
            "Epoch 31:\tloss 1.1734\t& accuracy 0.7\n",
            "Epoch 32:\tloss 1.2564\t& accuracy 0.6786\n",
            "Epoch 33:\tloss 1.1841\t& accuracy 0.6929\n",
            "Epoch 34:\tloss 1.1128\t& accuracy 0.6857\n",
            "Epoch 35:\tloss 1.2894\t& accuracy 0.6714\n",
            "Epoch 36:\tloss 1.2065\t& accuracy 0.6786\n",
            "Epoch 37:\tloss 1.2005\t& accuracy 0.6786\n",
            "Epoch 38:\tloss 1.0843\t& accuracy 0.6786\n",
            "Epoch 39:\tloss 1.1532\t& accuracy 0.6786\n",
            "Epoch 40:\tloss 1.093\t& accuracy 0.6643\n",
            "Epoch 41:\tloss 1.1214\t& accuracy 0.6857\n",
            "Epoch 42:\tloss 1.1064\t& accuracy 0.6714\n",
            "Epoch 43:\tloss 0.9512\t& accuracy 0.6786\n",
            "Epoch 44:\tloss 1.1586\t& accuracy 0.6857\n",
            "Epoch 45:\tloss 1.0941\t& accuracy 0.6786\n",
            "Epoch 46:\tloss 1.0569\t& accuracy 0.6643\n",
            "Epoch 47:\tloss 1.0199\t& accuracy 0.6714\n",
            "Epoch 48:\tloss 1.0606\t& accuracy 0.6571\n",
            "Epoch 49:\tloss 1.0293\t& accuracy 0.65\n",
            "Epoch 50:\tloss 0.9749\t& accuracy 0.6786\n",
            "Resetting model... Best validation accuracy:\t0.7214\n"
          ]
        }
      ]
    },
    {
      "cell_type": "code",
      "source": [
        "from numpy.core.function_base import linspace\n",
        "import math\n",
        "def graph(accuracies, training_accs):\n",
        "    epoch = range(1, len(accuracies)+1)\n",
        "    plt.plot(epoch, accuracies, label = 'validation accuracy')\n",
        "    plt.plot(epoch, training_accs, label = 'training accuracy')\n",
        "    plt.legend()\n",
        "    plt.axhline(y = 0.7, color='r')\n",
        "    #new_list = range(math.floor(min(epoch)), math.ceil(max(epoch))+1)\n",
        "    #plt.xticks(new_list)\n",
        "\n",
        "    plt.xlabel('Epoch')\n",
        "    plt.ylabel('Accuracy score')\n",
        "    plt.title('Training vs. Validation accuracies generated from NN')"
      ],
      "metadata": {
        "id": "TesdrXvnub5v"
      },
      "execution_count": null,
      "outputs": []
    },
    {
      "cell_type": "code",
      "source": [
        "graph(accuracies, train_accs)"
      ],
      "metadata": {
        "colab": {
          "base_uri": "https://localhost:8080/",
          "height": 472
        },
        "id": "XANlXAtVuqJT",
        "outputId": "bb0cba8a-9aee-453a-eed0-0d44a62adf90"
      },
      "execution_count": null,
      "outputs": [
        {
          "output_type": "display_data",
          "data": {
            "text/plain": [
              "<Figure size 640x480 with 1 Axes>"
            ],
            "image/png": "[encoded data removed]"
          },
          "metadata": {}
        }
      ]
    },
    {
      "cell_type": "markdown",
      "source": [
        "## Compare the classification effects between raw data and latent space"
      ],
      "metadata": {
        "id": "w0FPl2SSu0rA"
      }
    },
    {
      "cell_type": "code",
      "source": [
        "data = {\n",
        "    'Model': ['RandomForest', 'DecisionTree', 'AdaBoost', 'SVM', 'FFNN', 'RandomForest', 'DecisionTree', 'AdaBoost', 'SVM', 'FFNN'],\n",
        "    'Accuracy': [0.8214285714285714, 0.7357142857142858, 0.7857142857142857, 0.8714, 0.8428571428571429,\n",
        "                 0.6928571428571428, 0.5785714285714286, 0.6714285714285714, 0.6785714285714286, 0.7214],\n",
        "    'Classfied Data': ['Raw', 'Raw', 'Raw', 'Raw', 'Raw', 'Latent Space', 'Latent Space', 'Latent Space', 'Latent Space', 'Latent Space']\n",
        "}"
      ],
      "metadata": {
        "id": "5EQ40xLBvU3y"
      },
      "execution_count": null,
      "outputs": []
    },
    {
      "cell_type": "code",
      "source": [
        "df = pd.DataFrame(data)\n",
        "df"
      ],
      "metadata": {
        "colab": {
          "base_uri": "https://localhost:8080/",
          "height": 363
        },
        "id": "zhP4IV8gxFbi",
        "outputId": "f1ca15b2-c6df-4fa9-83e9-e7af9be54311"
      },
      "execution_count": null,
      "outputs": [
        {
          "output_type": "execute_result",
          "data": {
            "text/plain": [
              "          Model  Accuracy Classfied Data\n",
              "0  RandomForest  0.821429            Raw\n",
              "1  DecisionTree  0.735714            Raw\n",
              "2      AdaBoost  0.785714            Raw\n",
              "3           SVM  0.871400            Raw\n",
              "4          FFNN  0.842857            Raw\n",
              "5  RandomForest  0.692857   Latent Space\n",
              "6  DecisionTree  0.578571   Latent Space\n",
              "7      AdaBoost  0.671429   Latent Space\n",
              "8           SVM  0.678571   Latent Space\n",
              "9          FFNN  0.721400   Latent Space"
            ],
            "text/html": [
              "\n",
              "  <div id=\"df-8134fe9f-41d7-43e3-8b2f-756d69e5ff8c\">\n",
              "    <div class=\"colab-df-container\">\n",
              "      <div>\n",
              "<style scoped>\n",
              "    .dataframe tbody tr th:only-of-type {\n",
              "        vertical-align: middle;\n",
              "    }\n",
              "\n",
              "    .dataframe tbody tr th {\n",
              "        vertical-align: top;\n",
              "    }\n",
              "\n",
              "    .dataframe thead th {\n",
              "        text-align: right;\n",
              "    }\n",
              "</style>\n",
              "<table border=\"1\" class=\"dataframe\">\n",
              "  <thead>\n",
              "    <tr style=\"text-align: right;\">\n",
              "      <th></th>\n",
              "      <th>Model</th>\n",
              "      <th>Accuracy</th>\n",
              "      <th>Classfied Data</th>\n",
              "    </tr>\n",
              "  </thead>\n",
              "  <tbody>\n",
              "    <tr>\n",
              "      <th>0</th>\n",
              "      <td>RandomForest</td>\n",
              "      <td>0.821429</td>\n",
              "      <td>Raw</td>\n",
              "    </tr>\n",
              "    <tr>\n",
              "      <th>1</th>\n",
              "      <td>DecisionTree</td>\n",
              "      <td>0.735714</td>\n",
              "      <td>Raw</td>\n",
              "    </tr>\n",
              "    <tr>\n",
              "      <th>2</th>\n",
              "      <td>AdaBoost</td>\n",
              "      <td>0.785714</td>\n",
              "      <td>Raw</td>\n",
              "    </tr>\n",
              "    <tr>\n",
              "      <th>3</th>\n",
              "      <td>SVM</td>\n",
              "      <td>0.871400</td>\n",
              "      <td>Raw</td>\n",
              "    </tr>\n",
              "    <tr>\n",
              "      <th>4</th>\n",
              "      <td>FFNN</td>\n",
              "      <td>0.842857</td>\n",
              "      <td>Raw</td>\n",
              "    </tr>\n",
              "    <tr>\n",
              "      <th>5</th>\n",
              "      <td>RandomForest</td>\n",
              "      <td>0.692857</td>\n",
              "      <td>Latent Space</td>\n",
              "    </tr>\n",
              "    <tr>\n",
              "      <th>6</th>\n",
              "      <td>DecisionTree</td>\n",
              "      <td>0.578571</td>\n",
              "      <td>Latent Space</td>\n",
              "    </tr>\n",
              "    <tr>\n",
              "      <th>7</th>\n",
              "      <td>AdaBoost</td>\n",
              "      <td>0.671429</td>\n",
              "      <td>Latent Space</td>\n",
              "    </tr>\n",
              "    <tr>\n",
              "      <th>8</th>\n",
              "      <td>SVM</td>\n",
              "      <td>0.678571</td>\n",
              "      <td>Latent Space</td>\n",
              "    </tr>\n",
              "    <tr>\n",
              "      <th>9</th>\n",
              "      <td>FFNN</td>\n",
              "      <td>0.721400</td>\n",
              "      <td>Latent Space</td>\n",
              "    </tr>\n",
              "  </tbody>\n",
              "</table>\n",
              "</div>\n",
              "      <button class=\"colab-df-convert\" onclick=\"convertToInteractive('df-8134fe9f-41d7-43e3-8b2f-756d69e5ff8c')\"\n",
              "              title=\"Convert this dataframe to an interactive table.\"\n",
              "              style=\"display:none;\">\n",
              "        \n",
              "  <svg xmlns=\"http://www.w3.org/2000/svg\" height=\"24px\"viewBox=\"0 0 24 24\"\n",
              "       width=\"24px\">\n",
              "    <path d=\"M0 0h24v24H0V0z\" fill=\"none\"/>\n",
              "    <path d=\"M18.56 5.44l.94 2.06.94-2.06 2.06-.94-2.06-.94-.94-2.06-.94 2.06-2.06.94zm-11 1L8.5 8.5l.94-2.06 2.06-.94-2.06-.94L8.5 2.5l-.94 2.06-2.06.94zm10 10l.94 2.06.94-2.06 2.06-.94-2.06-.94-.94-2.06-.94 2.06-2.06.94z\"/><path d=\"M17.41 7.96l-1.37-1.37c-.4-.4-.92-.59-1.43-.59-.52 0-1.04.2-1.43.59L10.3 9.45l-7.72 7.72c-.78.78-.78 2.05 0 2.83L4 21.41c.39.39.9.59 1.41.59.51 0 1.02-.2 1.41-.59l7.78-7.78 2.81-2.81c.8-.78.8-2.07 0-2.86zM5.41 20L4 18.59l7.72-7.72 1.47 1.35L5.41 20z\"/>\n",
              "  </svg>\n",
              "      </button>\n",
              "      \n",
              "  <style>\n",
              "    .colab-df-container {\n",
              "      display:flex;\n",
              "      flex-wrap:wrap;\n",
              "      gap: 12px;\n",
              "    }\n",
              "\n",
              "    .colab-df-convert {\n",
              "      background-color: #E8F0FE;\n",
              "      border: none;\n",
              "      border-radius: 50%;\n",
              "      cursor: pointer;\n",
              "      display: none;\n",
              "      fill: #1967D2;\n",
              "      height: 32px;\n",
              "      padding: 0 0 0 0;\n",
              "      width: 32px;\n",
              "    }\n",
              "\n",
              "    .colab-df-convert:hover {\n",
              "      background-color: #E2EBFA;\n",
              "      box-shadow: 0px 1px 2px rgba(60, 64, 67, 0.3), 0px 1px 3px 1px rgba(60, 64, 67, 0.15);\n",
              "      fill: #174EA6;\n",
              "    }\n",
              "\n",
              "    [theme=dark] .colab-df-convert {\n",
              "      background-color: #3B4455;\n",
              "      fill: #D2E3FC;\n",
              "    }\n",
              "\n",
              "    [theme=dark] .colab-df-convert:hover {\n",
              "      background-color: #434B5C;\n",
              "      box-shadow: 0px 1px 3px 1px rgba(0, 0, 0, 0.15);\n",
              "      filter: drop-shadow(0px 1px 2px rgba(0, 0, 0, 0.3));\n",
              "      fill: #FFFFFF;\n",
              "    }\n",
              "  </style>\n",
              "\n",
              "      <script>\n",
              "        const buttonEl =\n",
              "          document.querySelector('#df-8134fe9f-41d7-43e3-8b2f-756d69e5ff8c button.colab-df-convert');\n",
              "        buttonEl.style.display =\n",
              "          google.colab.kernel.accessAllowed ? 'block' : 'none';\n",
              "\n",
              "        async function convertToInteractive(key) {\n",
              "          const element = document.querySelector('#df-8134fe9f-41d7-43e3-8b2f-756d69e5ff8c');\n",
              "          const dataTable =\n",
              "            await google.colab.kernel.invokeFunction('convertToInteractive',\n",
              "                                                     [key], {});\n",
              "          if (!dataTable) return;\n",
              "\n",
              "          const docLinkHtml = 'Like what you see? Visit the ' +\n",
              "            '<a target=\"_blank\" href=https://colab.research.google.com/notebooks/data_table.ipynb>data table notebook</a>'\n",
              "            + ' to learn more about interactive tables.';\n",
              "          element.innerHTML = '';\n",
              "          dataTable['output_type'] = 'display_data';\n",
              "          await google.colab.output.renderOutput(dataTable, element);\n",
              "          const docLink = document.createElement('div');\n",
              "          docLink.innerHTML = docLinkHtml;\n",
              "          element.appendChild(docLink);\n",
              "        }\n",
              "      </script>\n",
              "    </div>\n",
              "  </div>\n",
              "  "
            ]
          },
          "metadata": {},
          "execution_count": 149
        }
      ]
    },
    {
      "cell_type": "code",
      "source": [
        "sns.barplot(data = df, x='Classfied Data', y='Accuracy', hue='Model', palette='Paired')\n",
        "plt.legend(loc='center left', bbox_to_anchor=(1, 0.5))\n",
        "plt.axhline(y = 0.8, color='black')\n",
        "plt.title (\"Accuracy of Classification Models on Raw Data and AutoEncoder Latent Space Representative\")"
      ],
      "metadata": {
        "colab": {
          "base_uri": "https://localhost:8080/",
          "height": 490
        },
        "id": "UoNOSXNxxKc5",
        "outputId": "6c4c2cdd-da06-40b6-8f0c-b3495e1efb74"
      },
      "execution_count": null,
      "outputs": [
        {
          "output_type": "execute_result",
          "data": {
            "text/plain": [
              "Text(0.5, 1.0, 'Accuracy of Classification Models on Raw Data and AutoEncoder Latent Space Representative')"
            ]
          },
          "metadata": {},
          "execution_count": 150
        },
        {
          "output_type": "display_data",
          "data": {
            "text/plain": [
              "<Figure size 640x480 with 1 Axes>"
            ],
            "image/png": "[encoded data removed]"
          },
          "metadata": {}
        }
      ]
    }
  ],
  "metadata": {
    "colab": {
      "provenance": [],
      "toc_visible": true
    },
    "kernelspec": {
      "display_name": "Python 3",
      "language": "python",
      "name": "python3"
    },
    "language_info": {
      "codemirror_mode": {
        "name": "ipython",
        "version": 3
      },
      "file_extension": ".py",
      "mimetype": "text/x-python",
      "name": "python",
      "nbconvert_exporter": "python",
      "pygments_lexer": "ipython3",
      "version": "3.8.8"
    }
  },
  "nbformat": 4,
  "nbformat_minor": 0
}